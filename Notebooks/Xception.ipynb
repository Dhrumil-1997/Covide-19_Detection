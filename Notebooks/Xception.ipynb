{
  "nbformat": 4,
  "nbformat_minor": 0,
  "metadata": {
    "colab": {
      "name": "Xception.ipynb",
      "provenance": [],
      "collapsed_sections": []
    },
    "kernelspec": {
      "name": "python3",
      "display_name": "Python 3"
    },
    "language_info": {
      "name": "python"
    }
  },
  "cells": [
    {
      "cell_type": "code",
      "metadata": {
        "colab": {
          "base_uri": "https://localhost:8080/"
        },
        "id": "d-FV0962VUTt",
        "outputId": "d3f650f1-993e-41cf-a7d9-d72c8a1dbd38"
      },
      "source": [
        "from google.colab import drive\n",
        "drive.mount('/content/gdrive')"
      ],
      "execution_count": null,
      "outputs": [
        {
          "output_type": "stream",
          "name": "stdout",
          "text": [
            "Mounted at /content/gdrive\n"
          ]
        }
      ]
    },
    {
      "cell_type": "markdown",
      "metadata": {
        "id": "-LHDo4TgVrS9"
      },
      "source": [
        "**Import libraries**"
      ]
    },
    {
      "cell_type": "code",
      "metadata": {
        "id": "IDB7i3AVVc_y"
      },
      "source": [
        "from keras.layers import Dense, Dropout, Flatten, Conv2D, MaxPool2D, BatchNormalization, AveragePooling2D, GlobalAveragePooling2D\n",
        "import keras_preprocessing\n",
        "from keras_preprocessing import image\n",
        "import tensorflow as tf\n",
        "from sklearn.model_selection import train_test_split\n",
        "from keras import optimizers\n",
        "from tensorflow.keras.optimizers import Adam\n",
        "import os\n",
        "import pandas as pd\n",
        "import numpy as np\n",
        "from tqdm import tqdm\n",
        "import keras\n",
        "from keras.utils.np_utils import to_categorical\n",
        "import cv2\n",
        "from keras.layers import Dense, GlobalAveragePooling2D\n",
        "from keras_preprocessing.image import ImageDataGenerator\n",
        "from keras import callbacks\n",
        "import matplotlib.pyplot as plt\n",
        "from sklearn.metrics import confusion_matrix\n",
        "import seaborn as sns\n",
        "from keras.layers import  Flatten, Dense, Dropout\n",
        "from keras.callbacks import ModelCheckpoint, ReduceLROnPlateau\n",
        "from tensorflow.keras.applications import Xception\n",
        "from keras.models import Model, Input"
      ],
      "execution_count": null,
      "outputs": []
    },
    {
      "cell_type": "code",
      "metadata": {
        "colab": {
          "base_uri": "https://localhost:8080/"
        },
        "id": "rjbG9pOEVj7w",
        "outputId": "1d189cf8-7323-4ad4-94ac-a915a35cd599"
      },
      "source": [
        "%cd /content/gdrive/\"My Drive\"/\"Covid19\""
      ],
      "execution_count": null,
      "outputs": [
        {
          "output_type": "stream",
          "name": "stdout",
          "text": [
            "/content/gdrive/My Drive/Covid19\n"
          ]
        }
      ]
    },
    {
      "cell_type": "markdown",
      "metadata": {
        "id": "pmMUS2gbVxyy"
      },
      "source": [
        "**Fetch the dataset**"
      ]
    },
    {
      "cell_type": "code",
      "metadata": {
        "id": "X1hckPXdWAda"
      },
      "source": [
        "os.environ['KAGGLE_CONFIG_DIR'] = \"/content/gdrive/MyDrive/Covid19\""
      ],
      "execution_count": null,
      "outputs": []
    },
    {
      "cell_type": "markdown",
      "metadata": {
        "id": "y4ZJk39nV1Lc"
      },
      "source": [
        "**Split the dataset into train and test data**"
      ]
    },
    {
      "cell_type": "code",
      "metadata": {
        "id": "4p0gbctzWDVR"
      },
      "source": [
        "disease_types=['COVID', 'non-COVID']\n",
        "Data_dir = '/content/gdrive/MyDrive/cv_project/Covid19'\n",
        "train_set_dir = os.path.join(Data_dir)"
      ],
      "execution_count": null,
      "outputs": []
    },
    {
      "cell_type": "code",
      "metadata": {
        "id": "WFoZ6l1uWG1M"
      },
      "source": [
        "train_set_data = []\n",
        "for defects_id, sp in enumerate(disease_types):\n",
        "    for file in os.listdir(os.path.join(train_set_dir, sp)):\n",
        "        train_set_data.append(['{}/{}'.format(sp, file), defects_id, sp])\n",
        "train_set = pd.DataFrame(train_set_data, columns=['File', 'DiseaseID','Disease Type'])"
      ],
      "execution_count": null,
      "outputs": []
    },
    {
      "cell_type": "code",
      "metadata": {
        "id": "DLEWC5lNWLSV"
      },
      "source": [
        "Img_size = 64\n",
        "def read_image(file_path):\n",
        "    return cv2.imread(os.path.join(Data_dir, file_path)) \n",
        "def resize_image(image, Img_size):\n",
        "    return cv2.resize(image.copy(), Img_size, interpolation=cv2.INTER_AREA)"
      ],
      "execution_count": null,
      "outputs": []
    },
    {
      "cell_type": "code",
      "metadata": {
        "colab": {
          "base_uri": "https://localhost:8080/"
        },
        "id": "hg1FQtxvXVqN",
        "outputId": "219aa389-f8a5-4dd3-a5f2-b2a57170949e"
      },
      "source": [
        "X_train_set = np.zeros((train_set.shape[0], Img_size, Img_size, 3))\n",
        "for i, file in tqdm(enumerate(train_set['File'].values)):\n",
        "    image = read_image(file)\n",
        "    if image is not None:\n",
        "        X_train_set[i] = resize_image(image, (Img_size, Img_size))\n",
        "X_train_set = X_train_set / 255.\n",
        "print(X_train_set.shape)"
      ],
      "execution_count": null,
      "outputs": [
        {
          "output_type": "stream",
          "name": "stderr",
          "text": [
            "2481it [09:12,  4.49it/s]\n"
          ]
        },
        {
          "output_type": "stream",
          "name": "stdout",
          "text": [
            "(2481, 64, 64, 3)\n"
          ]
        }
      ]
    },
    {
      "cell_type": "code",
      "metadata": {
        "id": "U7X9Sw9tXlIl"
      },
      "source": [
        "Y_train_set = train_set['DiseaseID'].values\n",
        "Y_train_set = to_categorical(Y_train_set, num_classes=2)"
      ],
      "execution_count": null,
      "outputs": []
    },
    {
      "cell_type": "code",
      "metadata": {
        "id": "i2Ce9txVaHHd"
      },
      "source": [
        "X_train_set, X_value, Y_train_set, Y_value = train_test_split(X_train_set, Y_train_set, test_size=0.2, random_state = 42)"
      ],
      "execution_count": null,
      "outputs": []
    },
    {
      "cell_type": "markdown",
      "metadata": {
        "id": "J9hRWxl8WAY-"
      },
      "source": [
        "**Define the Xcepetion model**"
      ]
    },
    {
      "cell_type": "code",
      "metadata": {
        "id": "4KkyPAaXaJen"
      },
      "source": [
        "BATCH_SIZE = 64\n",
        "Epochs = 50\n",
        "Size=64\n",
        "N_CH=3"
      ],
      "execution_count": null,
      "outputs": []
    },
    {
      "cell_type": "code",
      "metadata": {
        "id": "YKmqFODNaNAT",
        "colab": {
          "base_uri": "https://localhost:8080/"
        },
        "outputId": "401f4562-842a-4f9b-ffa6-06dee30e70f4"
      },
      "source": [
        "xception_Model = Xception(weights='imagenet', include_top=False)\n",
        "\n",
        "input = Input(shape=(Size, Size, N_CH))\n",
        "x = Conv2D(3, (3, 3), padding='same')(input)\n",
        "    \n",
        "x = xception_Model(x)\n",
        "    \n",
        "x = GlobalAveragePooling2D()(x)\n",
        "x = BatchNormalization()(x)\n",
        "x = Dropout(0.5)(x)\n",
        "x = Dense(256, activation='relu')(x)\n",
        "x = BatchNormalization()(x)\n",
        "x = Dropout(0.5)(x)\n",
        "\n",
        "# multi output\n",
        "output = Dense(2,activation = 'softmax', name='root')(x)\n",
        " \n",
        "\n",
        "# Model\n",
        "Model = Model(input,output)\n",
        "    \n",
        "optimizer = Adam(learning_rate=0.003, beta_1=0.9, beta_2=0.999, epsilon=0.1, decay=0.0)\n",
        "Model.compile(loss='categorical_crossentropy', optimizer=optimizer, metrics=['accuracy'])\n",
        "Model.summary()"
      ],
      "execution_count": null,
      "outputs": [
        {
          "output_type": "stream",
          "name": "stdout",
          "text": [
            "Downloading data from https://storage.googleapis.com/tensorflow/keras-applications/xception/xception_weights_tf_dim_ordering_tf_kernels_notop.h5\n",
            "83689472/83683744 [==============================] - 1s 0us/step\n",
            "83697664/83683744 [==============================] - 1s 0us/step\n",
            "Model: \"model\"\n",
            "_________________________________________________________________\n",
            " Layer (type)                Output Shape              Param #   \n",
            "=================================================================\n",
            " input_2 (InputLayer)        [(None, 64, 64, 3)]       0         \n",
            "                                                                 \n",
            " conv2d_4 (Conv2D)           (None, 64, 64, 3)         84        \n",
            "                                                                 \n",
            " xception (Functional)       (None, None, None, 2048)  20861480  \n",
            "                                                                 \n",
            " global_average_pooling2d (G  (None, 2048)             0         \n",
            " lobalAveragePooling2D)                                          \n",
            "                                                                 \n",
            " batch_normalization_4 (Batc  (None, 2048)             8192      \n",
            " hNormalization)                                                 \n",
            "                                                                 \n",
            " dropout (Dropout)           (None, 2048)              0         \n",
            "                                                                 \n",
            " dense (Dense)               (None, 256)               524544    \n",
            "                                                                 \n",
            " batch_normalization_5 (Batc  (None, 256)              1024      \n",
            " hNormalization)                                                 \n",
            "                                                                 \n",
            " dropout_1 (Dropout)         (None, 256)               0         \n",
            "                                                                 \n",
            " root (Dense)                (None, 2)                 514       \n",
            "                                                                 \n",
            "=================================================================\n",
            "Total params: 21,395,838\n",
            "Trainable params: 21,336,702\n",
            "Non-trainable params: 59,136\n",
            "_________________________________________________________________\n"
          ]
        }
      ]
    },
    {
      "cell_type": "markdown",
      "metadata": {
        "id": "CpA314e7WGHK"
      },
      "source": [
        "**Train the model**"
      ]
    },
    {
      "cell_type": "code",
      "metadata": {
        "id": "FRXnb_oPaQIL"
      },
      "source": [
        "annealer = ReduceLROnPlateau(monitor='val_accuracy', factor=0.70, patience=5, verbose=1, min_lr=1e-4)\n",
        "checkpoint = ModelCheckpoint('Xception_Model.hdf5', verbose=1, save_best_only=True)\n",
        "data_generator = ImageDataGenerator(rotation_range=360, \n",
        "                        width_shift_range=0.2, \n",
        "                        height_shift_range=0.2,\n",
        "                        zoom_range=0.2, \n",
        "                        horizontal_flip=True, \n",
        "                        vertical_flip=True) \n",
        "\n",
        "data_generator.fit(X_train_set)"
      ],
      "execution_count": null,
      "outputs": []
    },
    {
      "cell_type": "code",
      "metadata": {
        "id": "v5pxUEN_aSYA",
        "colab": {
          "base_uri": "https://localhost:8080/"
        },
        "outputId": "ea07f7df-9ad8-4c87-b718-a9d593c69c10"
      },
      "source": [
        "history = Model.fit(data_generator.flow(X_train_set, Y_train_set, batch_size=BATCH_SIZE),\n",
        "               steps_per_epoch=X_train_set.shape[0] // BATCH_SIZE,\n",
        "               epochs=Epochs,\n",
        "               verbose=1,\n",
        "               callbacks=[annealer, checkpoint],\n",
        "               validation_data=(X_value, Y_value))"
      ],
      "execution_count": null,
      "outputs": [
        {
          "output_type": "stream",
          "name": "stdout",
          "text": [
            "Epoch 1/50\n",
            "31/31 [==============================] - ETA: 0s - loss: 1.2460 - accuracy: 0.5055\n",
            "Epoch 00001: val_loss improved from inf to 0.65436, saving model to Xception_Model.hdf5\n"
          ]
        },
        {
          "output_type": "stream",
          "name": "stderr",
          "text": [
            "/usr/local/lib/python3.7/dist-packages/keras/engine/functional.py:1410: CustomMaskWarning: Custom mask layers require a config and must override get_config. When loading, the custom mask layer must be passed to the custom_objects argument.\n",
            "  layer_config = serialize_layer_fn(layer)\n"
          ]
        },
        {
          "output_type": "stream",
          "name": "stdout",
          "text": [
            "\b\b\b\b\b\b\b\b\b\b\b\b\b\b\b\b\b\b\b\b\b\b\b\b\b\b\b\b\b\b\b\b\b\b\b\b\b\b\b\b\b\b\b\b\b\b\b\b\b\b\b\b\b\b\b\b\b\b\b\b\b\b\b\b\b\b\b\b\b\b\b\b\b\b\b\b\b\b\b\b\b\b\r31/31 [==============================] - 254s 8s/step - loss: 1.2460 - accuracy: 0.5055 - val_loss: 0.6544 - val_accuracy: 0.6539 - lr: 0.0030\n",
            "Epoch 2/50\n",
            "31/31 [==============================] - ETA: 0s - loss: 1.0480 - accuracy: 0.5252\n",
            "Epoch 00002: val_loss did not improve from 0.65436\n",
            "31/31 [==============================] - 244s 8s/step - loss: 1.0480 - accuracy: 0.5252 - val_loss: 0.6996 - val_accuracy: 0.4889 - lr: 0.0030\n",
            "Epoch 3/50\n",
            "31/31 [==============================] - ETA: 0s - loss: 0.9325 - accuracy: 0.5287\n",
            "Epoch 00003: val_loss did not improve from 0.65436\n",
            "31/31 [==============================] - 243s 8s/step - loss: 0.9325 - accuracy: 0.5287 - val_loss: 0.6934 - val_accuracy: 0.4849 - lr: 0.0030\n",
            "Epoch 4/50\n",
            "31/31 [==============================] - ETA: 0s - loss: 0.7903 - accuracy: 0.5852\n",
            "Epoch 00004: val_loss did not improve from 0.65436\n",
            "31/31 [==============================] - 244s 8s/step - loss: 0.7903 - accuracy: 0.5852 - val_loss: 0.6794 - val_accuracy: 0.5855 - lr: 0.0030\n",
            "Epoch 5/50\n",
            "31/31 [==============================] - ETA: 0s - loss: 0.7808 - accuracy: 0.5882\n",
            "Epoch 00005: val_loss did not improve from 0.65436\n",
            "31/31 [==============================] - 242s 8s/step - loss: 0.7808 - accuracy: 0.5882 - val_loss: 0.6724 - val_accuracy: 0.5755 - lr: 0.0030\n",
            "Epoch 6/50\n",
            "31/31 [==============================] - ETA: 0s - loss: 0.7102 - accuracy: 0.6008\n",
            "Epoch 00006: ReduceLROnPlateau reducing learning rate to 0.002100000018253922.\n",
            "\n",
            "Epoch 00006: val_loss improved from 0.65436 to 0.64007, saving model to Xception_Model.hdf5\n",
            "31/31 [==============================] - 245s 8s/step - loss: 0.7102 - accuracy: 0.6008 - val_loss: 0.6401 - val_accuracy: 0.6117 - lr: 0.0030\n",
            "Epoch 7/50\n",
            "31/31 [==============================] - ETA: 0s - loss: 0.6766 - accuracy: 0.6416\n",
            "Epoch 00007: val_loss improved from 0.64007 to 0.61980, saving model to Xception_Model.hdf5\n",
            "31/31 [==============================] - 248s 8s/step - loss: 0.6766 - accuracy: 0.6416 - val_loss: 0.6198 - val_accuracy: 0.6439 - lr: 0.0021\n",
            "Epoch 8/50\n",
            "31/31 [==============================] - ETA: 0s - loss: 0.6332 - accuracy: 0.6517\n",
            "Epoch 00008: val_loss improved from 0.61980 to 0.60755, saving model to Xception_Model.hdf5\n",
            "31/31 [==============================] - 245s 8s/step - loss: 0.6332 - accuracy: 0.6517 - val_loss: 0.6076 - val_accuracy: 0.6479 - lr: 0.0021\n",
            "Epoch 9/50\n",
            "31/31 [==============================] - ETA: 0s - loss: 0.6160 - accuracy: 0.6678\n",
            "Epoch 00009: val_loss improved from 0.60755 to 0.59104, saving model to Xception_Model.hdf5\n",
            "31/31 [==============================] - 247s 8s/step - loss: 0.6160 - accuracy: 0.6678 - val_loss: 0.5910 - val_accuracy: 0.6640 - lr: 0.0021\n",
            "Epoch 10/50\n",
            "31/31 [==============================] - ETA: 0s - loss: 0.5904 - accuracy: 0.6830\n",
            "Epoch 00010: val_loss improved from 0.59104 to 0.57441, saving model to Xception_Model.hdf5\n",
            "31/31 [==============================] - 247s 8s/step - loss: 0.5904 - accuracy: 0.6830 - val_loss: 0.5744 - val_accuracy: 0.6740 - lr: 0.0021\n",
            "Epoch 11/50\n",
            "31/31 [==============================] - ETA: 0s - loss: 0.5690 - accuracy: 0.7087\n",
            "Epoch 00011: val_loss improved from 0.57441 to 0.55586, saving model to Xception_Model.hdf5\n",
            "31/31 [==============================] - 247s 8s/step - loss: 0.5690 - accuracy: 0.7087 - val_loss: 0.5559 - val_accuracy: 0.7062 - lr: 0.0021\n",
            "Epoch 12/50\n",
            "31/31 [==============================] - ETA: 0s - loss: 0.5416 - accuracy: 0.7263\n",
            "Epoch 00012: val_loss improved from 0.55586 to 0.52692, saving model to Xception_Model.hdf5\n",
            "31/31 [==============================] - 246s 8s/step - loss: 0.5416 - accuracy: 0.7263 - val_loss: 0.5269 - val_accuracy: 0.7183 - lr: 0.0021\n",
            "Epoch 13/50\n",
            "31/31 [==============================] - ETA: 0s - loss: 0.5263 - accuracy: 0.7440\n",
            "Epoch 00013: val_loss improved from 0.52692 to 0.49869, saving model to Xception_Model.hdf5\n",
            "31/31 [==============================] - 246s 8s/step - loss: 0.5263 - accuracy: 0.7440 - val_loss: 0.4987 - val_accuracy: 0.7425 - lr: 0.0021\n",
            "Epoch 14/50\n",
            "31/31 [==============================] - ETA: 0s - loss: 0.5094 - accuracy: 0.7545\n",
            "Epoch 00014: val_loss improved from 0.49869 to 0.46920, saving model to Xception_Model.hdf5\n",
            "31/31 [==============================] - 245s 8s/step - loss: 0.5094 - accuracy: 0.7545 - val_loss: 0.4692 - val_accuracy: 0.7827 - lr: 0.0021\n",
            "Epoch 15/50\n",
            "31/31 [==============================] - ETA: 0s - loss: 0.4857 - accuracy: 0.7812\n",
            "Epoch 00015: val_loss did not improve from 0.46920\n",
            "31/31 [==============================] - 242s 8s/step - loss: 0.4857 - accuracy: 0.7812 - val_loss: 0.5395 - val_accuracy: 0.7384 - lr: 0.0021\n",
            "Epoch 16/50\n",
            "31/31 [==============================] - ETA: 0s - loss: 0.4923 - accuracy: 0.7666\n",
            "Epoch 00016: val_loss did not improve from 0.46920\n",
            "31/31 [==============================] - 241s 8s/step - loss: 0.4923 - accuracy: 0.7666 - val_loss: 0.4926 - val_accuracy: 0.7425 - lr: 0.0021\n",
            "Epoch 17/50\n",
            "31/31 [==============================] - ETA: 0s - loss: 0.4801 - accuracy: 0.7762\n",
            "Epoch 00017: val_loss did not improve from 0.46920\n",
            "31/31 [==============================] - 241s 8s/step - loss: 0.4801 - accuracy: 0.7762 - val_loss: 0.4735 - val_accuracy: 0.7827 - lr: 0.0021\n",
            "Epoch 18/50\n",
            "31/31 [==============================] - ETA: 0s - loss: 0.4789 - accuracy: 0.7949\n",
            "Epoch 00018: val_loss did not improve from 0.46920\n",
            "31/31 [==============================] - 241s 8s/step - loss: 0.4789 - accuracy: 0.7949 - val_loss: 0.5196 - val_accuracy: 0.7364 - lr: 0.0021\n",
            "Epoch 19/50\n",
            "31/31 [==============================] - ETA: 0s - loss: 0.4507 - accuracy: 0.8125\n",
            "Epoch 00019: ReduceLROnPlateau reducing learning rate to 0.0014699999475851653.\n",
            "\n",
            "Epoch 00019: val_loss did not improve from 0.46920\n",
            "31/31 [==============================] - 241s 8s/step - loss: 0.4507 - accuracy: 0.8125 - val_loss: 0.5242 - val_accuracy: 0.7404 - lr: 0.0021\n",
            "Epoch 20/50\n",
            "31/31 [==============================] - ETA: 0s - loss: 0.4479 - accuracy: 0.8024\n",
            "Epoch 00020: val_loss did not improve from 0.46920\n",
            "31/31 [==============================] - 241s 8s/step - loss: 0.4479 - accuracy: 0.8024 - val_loss: 0.5145 - val_accuracy: 0.7404 - lr: 0.0015\n",
            "Epoch 21/50\n",
            "31/31 [==============================] - ETA: 0s - loss: 0.4423 - accuracy: 0.7959\n",
            "Epoch 00021: val_loss did not improve from 0.46920\n",
            "31/31 [==============================] - 241s 8s/step - loss: 0.4423 - accuracy: 0.7959 - val_loss: 0.5190 - val_accuracy: 0.7445 - lr: 0.0015\n",
            "Epoch 22/50\n",
            "31/31 [==============================] - ETA: 0s - loss: 0.4246 - accuracy: 0.8165\n",
            "Epoch 00022: val_loss did not improve from 0.46920\n",
            "31/31 [==============================] - 240s 8s/step - loss: 0.4246 - accuracy: 0.8165 - val_loss: 0.5016 - val_accuracy: 0.7525 - lr: 0.0015\n",
            "Epoch 23/50\n",
            "31/31 [==============================] - ETA: 0s - loss: 0.4166 - accuracy: 0.8130\n",
            "Epoch 00023: val_loss improved from 0.46920 to 0.46561, saving model to Xception_Model.hdf5\n",
            "31/31 [==============================] - 245s 8s/step - loss: 0.4166 - accuracy: 0.8130 - val_loss: 0.4656 - val_accuracy: 0.7746 - lr: 0.0015\n",
            "Epoch 24/50\n",
            "31/31 [==============================] - ETA: 0s - loss: 0.4014 - accuracy: 0.8352\n",
            "Epoch 00024: val_loss improved from 0.46561 to 0.37092, saving model to Xception_Model.hdf5\n",
            "31/31 [==============================] - 245s 8s/step - loss: 0.4014 - accuracy: 0.8352 - val_loss: 0.3709 - val_accuracy: 0.8370 - lr: 0.0015\n",
            "Epoch 25/50\n",
            "31/31 [==============================] - ETA: 0s - loss: 0.3949 - accuracy: 0.8311\n",
            "Epoch 00025: val_loss improved from 0.37092 to 0.34533, saving model to Xception_Model.hdf5\n",
            "31/31 [==============================] - 245s 8s/step - loss: 0.3949 - accuracy: 0.8311 - val_loss: 0.3453 - val_accuracy: 0.8571 - lr: 0.0015\n",
            "Epoch 26/50\n",
            "31/31 [==============================] - ETA: 0s - loss: 0.3775 - accuracy: 0.8503\n",
            "Epoch 00026: val_loss did not improve from 0.34533\n",
            "31/31 [==============================] - 240s 8s/step - loss: 0.3775 - accuracy: 0.8503 - val_loss: 0.3951 - val_accuracy: 0.8149 - lr: 0.0015\n",
            "Epoch 27/50\n",
            "31/31 [==============================] - ETA: 0s - loss: 0.3753 - accuracy: 0.8382\n",
            "Epoch 00027: val_loss improved from 0.34533 to 0.32374, saving model to Xception_Model.hdf5\n",
            "31/31 [==============================] - 244s 8s/step - loss: 0.3753 - accuracy: 0.8382 - val_loss: 0.3237 - val_accuracy: 0.8672 - lr: 0.0015\n",
            "Epoch 28/50\n",
            "31/31 [==============================] - ETA: 0s - loss: 0.3777 - accuracy: 0.8498\n",
            "Epoch 00028: val_loss did not improve from 0.32374\n",
            "31/31 [==============================] - 241s 8s/step - loss: 0.3777 - accuracy: 0.8498 - val_loss: 0.3289 - val_accuracy: 0.8592 - lr: 0.0015\n",
            "Epoch 29/50\n",
            "31/31 [==============================] - ETA: 0s - loss: 0.3894 - accuracy: 0.8382\n",
            "Epoch 00029: val_loss improved from 0.32374 to 0.29708, saving model to Xception_Model.hdf5\n",
            "31/31 [==============================] - 243s 8s/step - loss: 0.3894 - accuracy: 0.8382 - val_loss: 0.2971 - val_accuracy: 0.8853 - lr: 0.0015\n",
            "Epoch 30/50\n",
            "31/31 [==============================] - ETA: 0s - loss: 0.3966 - accuracy: 0.8311\n",
            "Epoch 00030: val_loss did not improve from 0.29708\n",
            "31/31 [==============================] - 240s 8s/step - loss: 0.3966 - accuracy: 0.8311 - val_loss: 0.3309 - val_accuracy: 0.8612 - lr: 0.0015\n",
            "Epoch 31/50\n",
            "31/31 [==============================] - ETA: 0s - loss: 0.3833 - accuracy: 0.8488\n",
            "Epoch 00031: val_loss did not improve from 0.29708\n",
            "31/31 [==============================] - 240s 8s/step - loss: 0.3833 - accuracy: 0.8488 - val_loss: 0.4419 - val_accuracy: 0.7948 - lr: 0.0015\n",
            "Epoch 32/50\n",
            "31/31 [==============================] - ETA: 0s - loss: 0.3701 - accuracy: 0.8443\n",
            "Epoch 00032: val_loss did not improve from 0.29708\n",
            "31/31 [==============================] - 240s 8s/step - loss: 0.3701 - accuracy: 0.8443 - val_loss: 0.4409 - val_accuracy: 0.8048 - lr: 0.0015\n",
            "Epoch 33/50\n",
            "31/31 [==============================] - ETA: 0s - loss: 0.3814 - accuracy: 0.8422\n",
            "Epoch 00033: val_loss did not improve from 0.29708\n",
            "31/31 [==============================] - 240s 8s/step - loss: 0.3814 - accuracy: 0.8422 - val_loss: 0.3271 - val_accuracy: 0.8612 - lr: 0.0015\n",
            "Epoch 34/50\n",
            "31/31 [==============================] - ETA: 0s - loss: 0.3601 - accuracy: 0.8569\n",
            "Epoch 00034: ReduceLROnPlateau reducing learning rate to 0.0010289999307133257.\n",
            "\n",
            "Epoch 00034: val_loss did not improve from 0.29708\n",
            "31/31 [==============================] - 239s 8s/step - loss: 0.3601 - accuracy: 0.8569 - val_loss: 0.3244 - val_accuracy: 0.8692 - lr: 0.0015\n",
            "Epoch 35/50\n",
            "31/31 [==============================] - ETA: 0s - loss: 0.3693 - accuracy: 0.8543\n",
            "Epoch 00035: val_loss did not improve from 0.29708\n",
            "31/31 [==============================] - 240s 8s/step - loss: 0.3693 - accuracy: 0.8543 - val_loss: 0.3267 - val_accuracy: 0.8632 - lr: 0.0010\n",
            "Epoch 36/50\n",
            "31/31 [==============================] - ETA: 0s - loss: 0.3472 - accuracy: 0.8619\n",
            "Epoch 00036: val_loss did not improve from 0.29708\n",
            "31/31 [==============================] - 239s 8s/step - loss: 0.3472 - accuracy: 0.8619 - val_loss: 0.3132 - val_accuracy: 0.8672 - lr: 0.0010\n",
            "Epoch 37/50\n",
            "31/31 [==============================] - ETA: 0s - loss: 0.3492 - accuracy: 0.8664\n",
            "Epoch 00037: val_loss improved from 0.29708 to 0.28477, saving model to Xception_Model.hdf5\n",
            "31/31 [==============================] - 242s 8s/step - loss: 0.3492 - accuracy: 0.8664 - val_loss: 0.2848 - val_accuracy: 0.8934 - lr: 0.0010\n",
            "Epoch 38/50\n",
            "31/31 [==============================] - ETA: 0s - loss: 0.3642 - accuracy: 0.8508\n",
            "Epoch 00038: val_loss improved from 0.28477 to 0.28361, saving model to Xception_Model.hdf5\n",
            "31/31 [==============================] - 243s 8s/step - loss: 0.3642 - accuracy: 0.8508 - val_loss: 0.2836 - val_accuracy: 0.8974 - lr: 0.0010\n",
            "Epoch 39/50\n",
            "31/31 [==============================] - ETA: 0s - loss: 0.3565 - accuracy: 0.8558\n",
            "Epoch 00039: val_loss improved from 0.28361 to 0.27815, saving model to Xception_Model.hdf5\n",
            "31/31 [==============================] - 243s 8s/step - loss: 0.3565 - accuracy: 0.8558 - val_loss: 0.2782 - val_accuracy: 0.9014 - lr: 0.0010\n",
            "Epoch 40/50\n",
            "31/31 [==============================] - ETA: 0s - loss: 0.3614 - accuracy: 0.8594\n",
            "Epoch 00040: val_loss did not improve from 0.27815\n",
            "31/31 [==============================] - 240s 8s/step - loss: 0.3614 - accuracy: 0.8594 - val_loss: 0.2918 - val_accuracy: 0.8934 - lr: 0.0010\n",
            "Epoch 41/50\n",
            "31/31 [==============================] - ETA: 0s - loss: 0.3586 - accuracy: 0.8574\n",
            "Epoch 00041: val_loss did not improve from 0.27815\n",
            "31/31 [==============================] - 239s 8s/step - loss: 0.3586 - accuracy: 0.8574 - val_loss: 0.2789 - val_accuracy: 0.8974 - lr: 0.0010\n",
            "Epoch 42/50\n",
            "31/31 [==============================] - ETA: 0s - loss: 0.3543 - accuracy: 0.8589\n",
            "Epoch 00042: val_loss did not improve from 0.27815\n",
            "31/31 [==============================] - 239s 8s/step - loss: 0.3543 - accuracy: 0.8589 - val_loss: 0.2785 - val_accuracy: 0.9034 - lr: 0.0010\n",
            "Epoch 43/50\n",
            "31/31 [==============================] - ETA: 0s - loss: 0.3475 - accuracy: 0.8564\n",
            "Epoch 00043: val_loss did not improve from 0.27815\n",
            "31/31 [==============================] - 239s 8s/step - loss: 0.3475 - accuracy: 0.8564 - val_loss: 0.2996 - val_accuracy: 0.8873 - lr: 0.0010\n",
            "Epoch 44/50\n",
            "31/31 [==============================] - ETA: 0s - loss: 0.3578 - accuracy: 0.8523\n",
            "Epoch 00044: val_loss did not improve from 0.27815\n",
            "31/31 [==============================] - 239s 8s/step - loss: 0.3578 - accuracy: 0.8523 - val_loss: 0.2867 - val_accuracy: 0.8934 - lr: 0.0010\n",
            "Epoch 45/50\n",
            "31/31 [==============================] - ETA: 0s - loss: 0.3481 - accuracy: 0.8619\n",
            "Epoch 00045: val_loss did not improve from 0.27815\n",
            "31/31 [==============================] - 239s 8s/step - loss: 0.3481 - accuracy: 0.8619 - val_loss: 0.2950 - val_accuracy: 0.8934 - lr: 0.0010\n",
            "Epoch 46/50\n",
            "31/31 [==============================] - ETA: 0s - loss: 0.3327 - accuracy: 0.8674\n",
            "Epoch 00046: val_loss did not improve from 0.27815\n",
            "31/31 [==============================] - 239s 8s/step - loss: 0.3327 - accuracy: 0.8674 - val_loss: 0.2955 - val_accuracy: 0.8813 - lr: 0.0010\n",
            "Epoch 47/50\n",
            "31/31 [==============================] - ETA: 0s - loss: 0.3275 - accuracy: 0.8720\n",
            "Epoch 00047: ReduceLROnPlateau reducing learning rate to 0.0007202999433502554.\n",
            "\n",
            "Epoch 00047: val_loss improved from 0.27815 to 0.27397, saving model to Xception_Model.hdf5\n",
            "31/31 [==============================] - 242s 8s/step - loss: 0.3275 - accuracy: 0.8720 - val_loss: 0.2740 - val_accuracy: 0.9034 - lr: 0.0010\n",
            "Epoch 48/50\n",
            "31/31 [==============================] - ETA: 0s - loss: 0.3376 - accuracy: 0.8629\n",
            "Epoch 00048: val_loss improved from 0.27397 to 0.26828, saving model to Xception_Model.hdf5\n",
            "31/31 [==============================] - 242s 8s/step - loss: 0.3376 - accuracy: 0.8629 - val_loss: 0.2683 - val_accuracy: 0.9034 - lr: 7.2030e-04\n",
            "Epoch 49/50\n",
            "31/31 [==============================] - ETA: 0s - loss: 0.3479 - accuracy: 0.8558\n",
            "Epoch 00049: val_loss did not improve from 0.26828\n",
            "31/31 [==============================] - 238s 8s/step - loss: 0.3479 - accuracy: 0.8558 - val_loss: 0.2727 - val_accuracy: 0.9074 - lr: 7.2030e-04\n",
            "Epoch 50/50\n",
            "31/31 [==============================] - ETA: 0s - loss: 0.3484 - accuracy: 0.8629\n",
            "Epoch 00050: val_loss did not improve from 0.26828\n",
            "31/31 [==============================] - 238s 8s/step - loss: 0.3484 - accuracy: 0.8629 - val_loss: 0.2749 - val_accuracy: 0.9034 - lr: 7.2030e-04\n"
          ]
        }
      ]
    },
    {
      "cell_type": "markdown",
      "metadata": {
        "id": "INAeqyIBWMKE"
      },
      "source": [
        "**Plot the results**"
      ]
    },
    {
      "cell_type": "code",
      "metadata": {
        "id": "RgvysaEFN7f6"
      },
      "source": [
        "Accuracy = history.history['accuracy']\n",
        "Val_accuracy = history.history['val_accuracy']\n",
        "Loss = history.history['loss']\n",
        "Validation_loss = history.history['val_loss']"
      ],
      "execution_count": null,
      "outputs": []
    },
    {
      "cell_type": "code",
      "metadata": {
        "colab": {
          "base_uri": "https://localhost:8080/",
          "height": 299
        },
        "id": "lGW9ug_BDBQc",
        "outputId": "ef8d0953-29d1-486d-a0f5-5dd4b9e22962"
      },
      "source": [
        "Epochs = range(len(Accuracy))\n",
        "plt.plot(Epochs, Accuracy, 'r', label='train_set Accuracy')\n",
        "plt.plot(Epochs, Val_accuracy, 'b', label='Validation accuracy')\n",
        "plt.title('Train_set & Validation Accuracy VS Epochs')\n",
        "plt.legend(loc=0)\n",
        "plt.figure()\n",
        "plt.show()"
      ],
      "execution_count": null,
      "outputs": [
        {
          "output_type": "display_data",
          "data": {
            "image/png": "[encoded data removed]",
            "text/plain": [
              "<Figure size 432x288 with 1 Axes>"
            ]
          },
          "metadata": {
            "needs_background": "light"
          }
        },
        {
          "output_type": "display_data",
          "data": {
            "text/plain": [
              "<Figure size 432x288 with 0 Axes>"
            ]
          },
          "metadata": {}
        }
      ]
    },
    {
      "cell_type": "code",
      "metadata": {
        "colab": {
          "base_uri": "https://localhost:8080/",
          "height": 299
        },
        "id": "Kd2njQT-a0k4",
        "outputId": "5f3a0859-271a-4e20-da68-65f0a3d1028f"
      },
      "source": [
        "Epochs = range(len(Accuracy))\n",
        "plt.plot(Epochs, Loss, 'r', label='train_set Loss')\n",
        "plt.plot(Epochs, Validation_loss, 'b', label='Validation Loss')\n",
        "plt.title('train_set & Validation Loss VS Epochs')\n",
        "plt.legend(loc=0)\n",
        "plt.figure()\n",
        "plt.show()"
      ],
      "execution_count": null,
      "outputs": [
        {
          "output_type": "display_data",
          "data": {
            "image/png": "[encoded data removed]",
            "text/plain": [
              "<Figure size 432x288 with 1 Axes>"
            ]
          },
          "metadata": {
            "needs_background": "light"
          }
        },
        {
          "output_type": "display_data",
          "data": {
            "text/plain": [
              "<Figure size 432x288 with 0 Axes>"
            ]
          },
          "metadata": {}
        }
      ]
    },
    {
      "cell_type": "code",
      "metadata": {
        "id": "_hF2z0Qpa3cF",
        "colab": {
          "base_uri": "https://localhost:8080/"
        },
        "outputId": "bc50c216-abb0-493c-e553-b3e36820dfbb"
      },
      "source": [
        "Model.load_weights(\"Xception_Model.hdf5\")\n",
        "score = Model.evaluate(X_value, Y_value ,verbose=1)\n",
        "print('Test Loss:', score[0])\n",
        "print('Test accuracy:', score[1]*100)"
      ],
      "execution_count": null,
      "outputs": [
        {
          "output_type": "stream",
          "name": "stdout",
          "text": [
            "16/16 [==============================] - 8s 474ms/step - loss: 0.2683 - accuracy: 0.9034\n",
            "Test Loss: 0.26827535033226013\n",
            "Test accuracy: 90.34205079078674\n"
          ]
        }
      ]
    },
    {
      "cell_type": "code",
      "metadata": {
        "id": "in9Nf-eqa7HB",
        "colab": {
          "base_uri": "https://localhost:8080/",
          "height": 299
        },
        "outputId": "42338777-1e99-4304-91f8-d7c0db843b68"
      },
      "source": [
        "Y_predict = Model.predict(X_value)\n",
        "Y_predictx = np.argmax(Y_predict, axis = -1)\n",
        "Y_valuex = np.argmax(Y_value, axis = -1)\n",
        "cf_matrix = confusion_matrix(Y_valuex, Y_predictx)\n",
        "group_name = ['True Neg','False Pos','False Neg','True Pos']\n",
        "group_count = [\"{0:0.0f}\".format(value) for value in\n",
        "                cf_matrix.flatten()]\n",
        "group_percentage = [\"{0:.2%}\".format(value) for value in\n",
        "                     cf_matrix.flatten()/np.sum(cf_matrix)]\n",
        "label = [f\"{v1}\\n{v2}\\n{v3}\" for v1, v2, v3 in\n",
        "          zip(group_name,group_count,group_percentage)]\n",
        "label = np.asarray(label).reshape(2,2)\n",
        "sns.heatmap(cf_matrix, annot = label, fmt = '')\n",
        "plt.title(\"Confusion Matrix\")"
      ],
      "execution_count": null,
      "outputs": [
        {
          "output_type": "execute_result",
          "data": {
            "text/plain": [
              "Text(0.5, 1.0, 'Confusion Matrix')"
            ]
          },
          "metadata": {},
          "execution_count": 30
        },
        {
          "output_type": "display_data",
          "data": {
            "image/png": "[encoded data removed]",
            "text/plain": [
              "<Figure size 432x288 with 2 Axes>"
            ]
          },
          "metadata": {
            "needs_background": "light"
          }
        }
      ]
    }
  ]
}