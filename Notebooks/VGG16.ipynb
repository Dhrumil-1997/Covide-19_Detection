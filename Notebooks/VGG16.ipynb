{
  "nbformat": 4,
  "nbformat_minor": 0,
  "metadata": {
    "colab": {
      "name": "VGG16.ipynb",
      "provenance": [],
      "collapsed_sections": []
    },
    "kernelspec": {
      "display_name": "Python 3",
      "name": "python3"
    },
    "language_info": {
      "name": "python"
    }
  },
  "cells": [
    {
      "cell_type": "code",
      "metadata": {
        "colab": {
          "base_uri": "https://localhost:8080/"
        },
        "id": "kT5uApYH710J",
        "outputId": "05badb7b-8ddc-4803-a72a-a27bfb69cc13"
      },
      "source": [
        "from google.colab import drive\n",
        "drive.mount('/content/gdrive')"
      ],
      "execution_count": null,
      "outputs": [
        {
          "output_type": "stream",
          "name": "stdout",
          "text": [
            "Mounted at /content/gdrive\n"
          ]
        }
      ]
    },
    {
      "cell_type": "markdown",
      "metadata": {
        "id": "CxXXrYCNT1ai"
      },
      "source": [
        "**Import Libraries**"
      ]
    },
    {
      "cell_type": "code",
      "metadata": {
        "id": "hJhPo27L8au8"
      },
      "source": [
        "import keras_preprocessing\n",
        "import seaborn as sns\n",
        "from tensorflow.keras.applications import VGG16\n",
        "from tensorflow.keras.optimizers import Adam\n",
        "import os\n",
        "import pandas as pd\n",
        "import numpy as np\n",
        "from tqdm import tqdm\n",
        "import keras\n",
        "from keras.utils.np_utils import to_categorical\n",
        "import cv2\n",
        "import tensorflow as tf\n",
        "from keras_preprocessing import image\n",
        "from keras_preprocessing.image import ImageDataGenerator\n",
        "from keras import callbacks\n",
        "import matplotlib.pyplot as plt\n",
        "from sklearn.metrics import confusion_matrix\n",
        "from sklearn.model_selection import train_test_split\n",
        "from keras.layers import  Flatten, Dense, Dropout\n",
        "from keras.models import Model\n",
        "from keras import optimizers\n",
        "from keras.layers import Dense, GlobalAveragePooling2D\n",
        "from keras.layers import Dense, Dropout, Flatten, Conv2D, MaxPool2D, BatchNormalization, AveragePooling2D, GlobalAveragePooling2D"
      ],
      "execution_count": null,
      "outputs": []
    },
    {
      "cell_type": "code",
      "metadata": {
        "colab": {
          "base_uri": "https://localhost:8080/"
        },
        "id": "EpcEfZ0W-L6t",
        "outputId": "2da8632b-c554-491d-ac92-ad1d5852baee"
      },
      "source": [
        "%cd /content/gdrive/\"My Drive\"/\"Covid19\""
      ],
      "execution_count": null,
      "outputs": [
        {
          "output_type": "stream",
          "name": "stdout",
          "text": [
            "/content/gdrive/My Drive/Covid19\n"
          ]
        }
      ]
    },
    {
      "cell_type": "markdown",
      "metadata": {
        "id": "K_21MV8TUFWe"
      },
      "source": [
        "**Fetch Dataset**"
      ]
    },
    {
      "cell_type": "code",
      "metadata": {
        "id": "uKXLAEto-qKM"
      },
      "source": [
        "os.environ['KAGGLE_CONFIG_DIR'] = \"/content/gdrive/MyDrive/Covid19\""
      ],
      "execution_count": null,
      "outputs": []
    },
    {
      "cell_type": "markdown",
      "metadata": {
        "id": "9hcrRUyZUPdN"
      },
      "source": [
        "**Split dataset into train and Test data**"
      ]
    },
    {
      "cell_type": "code",
      "metadata": {
        "id": "2JhuZQcw-0g4"
      },
      "source": [
        "disease=['COVID', 'non-COVID']\n",
        "Data_dir = '/content/gdrive/MyDrive/cv_project/Covid19'\n",
        "train_set_dir = os.path.join(Data_dir)"
      ],
      "execution_count": null,
      "outputs": []
    },
    {
      "cell_type": "code",
      "metadata": {
        "id": "0qZ_xY_q--Y3"
      },
      "source": [
        "train_set_data = []\n",
        "for defects_id, sp in enumerate(disease):\n",
        "    for file in os.listdir(os.path.join(train_set_dir, sp)):\n",
        "        train_set_data.append(['{}/{}'.format(sp, file), defects_id, sp])\n",
        "train_set = pd.DataFrame(train_set_data, columns=['File', 'DiseaseID','Disease Type'])"
      ],
      "execution_count": null,
      "outputs": []
    },
    {
      "cell_type": "code",
      "metadata": {
        "id": "HRdKlera_I0i"
      },
      "source": [
        "Img_size = 150\n",
        "def read_image(file_path):\n",
        "    return cv2.imread(os.path.join(Data_dir, file_path))\n",
        "def resize_image(image, Img_size):\n",
        "    return cv2.resize(image.copy(), Img_size, interpolation=cv2.INTER_AREA)"
      ],
      "execution_count": null,
      "outputs": []
    },
    {
      "cell_type": "code",
      "metadata": {
        "colab": {
          "base_uri": "https://localhost:8080/"
        },
        "id": "ajhOsxUBABbh",
        "outputId": "22c43314-1cc1-4208-a670-1b90e203272f"
      },
      "source": [
        "X_train_set = np.zeros((train_set.shape[0], Img_size, Img_size, 3))\n",
        "for i, file in tqdm(enumerate(train_set['File'].values)):\n",
        "    image = read_image(file)\n",
        "    if image is not None:\n",
        "        X_train_set[i] = resize_image(image, (Img_size, Img_size))\n",
        "X_train_set = X_train_set / 255.\n",
        "print(X_train_set.shape)"
      ],
      "execution_count": null,
      "outputs": [
        {
          "output_type": "stream",
          "name": "stderr",
          "text": [
            "2481it [00:20, 123.34it/s]\n"
          ]
        },
        {
          "output_type": "stream",
          "name": "stdout",
          "text": [
            "(2481, 150, 150, 3)\n"
          ]
        }
      ]
    },
    {
      "cell_type": "code",
      "metadata": {
        "id": "J0dtcu5UADx5"
      },
      "source": [
        "Y_train_set = train_set['DiseaseID'].values\n",
        "Y_train_set = to_categorical(Y_train_set, num_classes=2)"
      ],
      "execution_count": null,
      "outputs": []
    },
    {
      "cell_type": "code",
      "metadata": {
        "id": "X5LNMLN0Gcy9"
      },
      "source": [
        "X_train_set, X_value, Y_train_set, Y_value = train_test_split(X_train_set, Y_train_set, test_size=0.1)"
      ],
      "execution_count": null,
      "outputs": []
    },
    {
      "cell_type": "markdown",
      "metadata": {
        "id": "fGEZOrCtUb7J"
      },
      "source": [
        "**Define VGG16 Model**"
      ]
    },
    {
      "cell_type": "code",
      "metadata": {
        "id": "E9UQ1ZISGgR8"
      },
      "source": [
        "def build_VGG16():\n",
        "  vgg16_model = VGG16(weights = 'imagenet', include_top = False,input_shape=(150,150,3))\n",
        "  x = vgg16_model.output\n",
        "  x = GlobalAveragePooling2D()(x)\n",
        "  x = BatchNormalization()(x)\n",
        "  x = Dropout(0.5)(x)\n",
        "  x = Dense(256, activation='relu')(x)\n",
        "  x = BatchNormalization()(x)\n",
        "  x = Dropout(0.5)(x)\n",
        "\n",
        "  Predict = Dense(2, activation = 'softmax')(x)\n",
        "  model = Model(vgg16_model.input,Predict)\n",
        "  for layer in vgg16_model.layers:\n",
        "      layer.trainable = False\n",
        "  optimizer = Adam(learning_rate=0.0002)\n",
        "  model.compile(loss='binary_crossentropy', optimizer=optimizer, metrics=['accuracy'])\n",
        "  model._name = \"VGG16_Architecture\"\n",
        "  model.summary()\n",
        "  return model"
      ],
      "execution_count": null,
      "outputs": []
    },
    {
      "cell_type": "markdown",
      "metadata": {
        "id": "_fILbEkbUhwq"
      },
      "source": [
        "**Train the model**"
      ]
    },
    {
      "cell_type": "code",
      "metadata": {
        "colab": {
          "base_uri": "https://localhost:8080/"
        },
        "id": "y0YRT97LGi0i",
        "outputId": "b68608c2-9bf8-4eb8-84ad-0599a767fe36"
      },
      "source": [
        "Model = build_VGG16()\n",
        "train_seting_datagen = ImageDataGenerator(rotation_range=40, \n",
        "                        width_shift_range=0.2, \n",
        "                        height_shift_range=0.2, \n",
        "                        zoom_range=0.2, \n",
        "                        horizontal_flip=True, \n",
        "                        vertical_flip=True,\n",
        "                        shear_range=0.2) \n",
        "\n",
        "train_set_generator = train_seting_datagen.flow(\n",
        "\tX_train_set, Y_train_set,\n",
        "batch_size=64\n",
        ")\n",
        "train_seting_datagen.fit(X_train_set)\n",
        "\n",
        "\n",
        "file_path=\"VGG16_Model.hdf5\"\n",
        "checkpoint = callbacks.ModelCheckpoint(file_path, monitor='value_Loss',save_best_only=True, mode='min',verbose=1)\n",
        "callbacks_list = [checkpoint]\n",
        "\n",
        "history = Model.fit(train_set_generator, steps_per_epoch=32, epochs=25,\n",
        "                              validation_data=(X_value, Y_value),validation_steps=50,callbacks=callbacks_list)"
      ],
      "execution_count": null,
      "outputs": [
        {
          "output_type": "stream",
          "name": "stdout",
          "text": [
            "Downloading data from https://storage.googleapis.com/tensorflow/keras-applications/vgg16/vgg16_weights_tf_dim_ordering_tf_kernels_notop.h5\n",
            "58892288/58889256 [==============================] - 0s 0us/step\n",
            "58900480/58889256 [==============================] - 0s 0us/step\n",
            "Model: \"VGG16_Architecture\"\n",
            "_________________________________________________________________\n",
            " Layer (type)                Output Shape              Param #   \n",
            "=================================================================\n",
            " input_1 (InputLayer)        [(None, 150, 150, 3)]     0         \n",
            "                                                                 \n",
            " block1_conv1 (Conv2D)       (None, 150, 150, 64)      1792      \n",
            "                                                                 \n",
            " block1_conv2 (Conv2D)       (None, 150, 150, 64)      36928     \n",
            "                                                                 \n",
            " block1_pool (MaxPooling2D)  (None, 75, 75, 64)        0         \n",
            "                                                                 \n",
            " block2_conv1 (Conv2D)       (None, 75, 75, 128)       73856     \n",
            "                                                                 \n",
            " block2_conv2 (Conv2D)       (None, 75, 75, 128)       147584    \n",
            "                                                                 \n",
            " block2_pool (MaxPooling2D)  (None, 37, 37, 128)       0         \n",
            "                                                                 \n",
            " block3_conv1 (Conv2D)       (None, 37, 37, 256)       295168    \n",
            "                                                                 \n",
            " block3_conv2 (Conv2D)       (None, 37, 37, 256)       590080    \n",
            "                                                                 \n",
            " block3_conv3 (Conv2D)       (None, 37, 37, 256)       590080    \n",
            "                                                                 \n",
            " block3_pool (MaxPooling2D)  (None, 18, 18, 256)       0         \n",
            "                                                                 \n",
            " block4_conv1 (Conv2D)       (None, 18, 18, 512)       1180160   \n",
            "                                                                 \n",
            " block4_conv2 (Conv2D)       (None, 18, 18, 512)       2359808   \n",
            "                                                                 \n",
            " block4_conv3 (Conv2D)       (None, 18, 18, 512)       2359808   \n",
            "                                                                 \n",
            " block4_pool (MaxPooling2D)  (None, 9, 9, 512)         0         \n",
            "                                                                 \n",
            " block5_conv1 (Conv2D)       (None, 9, 9, 512)         2359808   \n",
            "                                                                 \n",
            " block5_conv2 (Conv2D)       (None, 9, 9, 512)         2359808   \n",
            "                                                                 \n",
            " block5_conv3 (Conv2D)       (None, 9, 9, 512)         2359808   \n",
            "                                                                 \n",
            " block5_pool (MaxPooling2D)  (None, 4, 4, 512)         0         \n",
            "                                                                 \n",
            " global_average_pooling2d (G  (None, 512)              0         \n",
            " lobalAveragePooling2D)                                          \n",
            "                                                                 \n",
            " batch_normalization (BatchN  (None, 512)              2048      \n",
            " ormalization)                                                   \n",
            "                                                                 \n",
            " dropout (Dropout)           (None, 512)               0         \n",
            "                                                                 \n",
            " dense (Dense)               (None, 256)               131328    \n",
            "                                                                 \n",
            " batch_normalization_1 (Batc  (None, 256)              1024      \n",
            " hNormalization)                                                 \n",
            "                                                                 \n",
            " dropout_1 (Dropout)         (None, 256)               0         \n",
            "                                                                 \n",
            " dense_1 (Dense)             (None, 2)                 514       \n",
            "                                                                 \n",
            "=================================================================\n",
            "Total params: 14,849,602\n",
            "Trainable params: 133,378\n",
            "Non-trainable params: 14,716,224\n",
            "_________________________________________________________________\n",
            "Epoch 1/25\n",
            "32/32 [==============================] - ETA: 0s - loss: 0.8643 - accuracy: 0.5956 WARNING:tensorflow:Can save best model only with value_Loss available, skipping.\n",
            "32/32 [==============================] - 512s 16s/step - loss: 0.8643 - accuracy: 0.5956 - val_loss: 0.6855 - val_accuracy: 0.6024\n",
            "Epoch 2/25\n",
            "32/32 [==============================] - ETA: 0s - loss: 0.7695 - accuracy: 0.6593 WARNING:tensorflow:Can save best model only with value_Loss available, skipping.\n",
            "32/32 [==============================] - 522s 16s/step - loss: 0.7695 - accuracy: 0.6593 - val_loss: 0.6494 - val_accuracy: 0.6225\n",
            "Epoch 3/25\n",
            "32/32 [==============================] - ETA: 0s - loss: 0.7464 - accuracy: 0.6676 WARNING:tensorflow:Can save best model only with value_Loss available, skipping.\n",
            "32/32 [==============================] - 525s 16s/step - loss: 0.7464 - accuracy: 0.6676 - val_loss: 0.6234 - val_accuracy: 0.6707\n",
            "Epoch 4/25\n",
            "32/32 [==============================] - ETA: 0s - loss: 0.7148 - accuracy: 0.6770 WARNING:tensorflow:Can save best model only with value_Loss available, skipping.\n",
            "32/32 [==============================] - 527s 17s/step - loss: 0.7148 - accuracy: 0.6770 - val_loss: 0.6025 - val_accuracy: 0.7108\n",
            "Epoch 5/25\n",
            "32/32 [==============================] - ETA: 0s - loss: 0.6580 - accuracy: 0.7093 WARNING:tensorflow:Can save best model only with value_Loss available, skipping.\n",
            "32/32 [==============================] - 518s 16s/step - loss: 0.6580 - accuracy: 0.7093 - val_loss: 0.5873 - val_accuracy: 0.7229\n",
            "Epoch 6/25\n",
            "32/32 [==============================] - ETA: 0s - loss: 0.6494 - accuracy: 0.7152 WARNING:tensorflow:Can save best model only with value_Loss available, skipping.\n",
            "32/32 [==============================] - 511s 16s/step - loss: 0.6494 - accuracy: 0.7152 - val_loss: 0.5672 - val_accuracy: 0.7390\n",
            "Epoch 7/25\n",
            "32/32 [==============================] - ETA: 0s - loss: 0.6484 - accuracy: 0.7074 WARNING:tensorflow:Can save best model only with value_Loss available, skipping.\n",
            "32/32 [==============================] - 513s 16s/step - loss: 0.6484 - accuracy: 0.7074 - val_loss: 0.5519 - val_accuracy: 0.7550\n",
            "Epoch 8/25\n",
            "32/32 [==============================] - ETA: 0s - loss: 0.6458 - accuracy: 0.7108 WARNING:tensorflow:Can save best model only with value_Loss available, skipping.\n",
            "32/32 [==============================] - 519s 16s/step - loss: 0.6458 - accuracy: 0.7108 - val_loss: 0.5411 - val_accuracy: 0.7510\n",
            "Epoch 9/25\n",
            "32/32 [==============================] - ETA: 0s - loss: 0.6393 - accuracy: 0.7127 WARNING:tensorflow:Can save best model only with value_Loss available, skipping.\n",
            "32/32 [==============================] - 516s 16s/step - loss: 0.6393 - accuracy: 0.7127 - val_loss: 0.5275 - val_accuracy: 0.7510\n",
            "Epoch 10/25\n",
            "32/32 [==============================] - ETA: 0s - loss: 0.6131 - accuracy: 0.7176 WARNING:tensorflow:Can save best model only with value_Loss available, skipping.\n",
            "32/32 [==============================] - 510s 16s/step - loss: 0.6131 - accuracy: 0.7176 - val_loss: 0.5184 - val_accuracy: 0.7711\n",
            "Epoch 11/25\n",
            "32/32 [==============================] - ETA: 0s - loss: 0.6113 - accuracy: 0.7289 WARNING:tensorflow:Can save best model only with value_Loss available, skipping.\n",
            "32/32 [==============================] - 511s 16s/step - loss: 0.6113 - accuracy: 0.7289 - val_loss: 0.5077 - val_accuracy: 0.7831\n",
            "Epoch 12/25\n",
            "32/32 [==============================] - ETA: 0s - loss: 0.5884 - accuracy: 0.7368 WARNING:tensorflow:Can save best model only with value_Loss available, skipping.\n",
            "32/32 [==============================] - 512s 16s/step - loss: 0.5884 - accuracy: 0.7368 - val_loss: 0.4983 - val_accuracy: 0.7711\n",
            "Epoch 13/25\n",
            "32/32 [==============================] - ETA: 0s - loss: 0.6148 - accuracy: 0.7108 WARNING:tensorflow:Can save best model only with value_Loss available, skipping.\n",
            "32/32 [==============================] - 509s 16s/step - loss: 0.6148 - accuracy: 0.7108 - val_loss: 0.4945 - val_accuracy: 0.7711\n",
            "Epoch 14/25\n",
            "32/32 [==============================] - ETA: 0s - loss: 0.5710 - accuracy: 0.7373 WARNING:tensorflow:Can save best model only with value_Loss available, skipping.\n",
            "32/32 [==============================] - 510s 16s/step - loss: 0.5710 - accuracy: 0.7373 - val_loss: 0.4868 - val_accuracy: 0.7751\n",
            "Epoch 15/25\n",
            "32/32 [==============================] - ETA: 0s - loss: 0.6079 - accuracy: 0.7319 WARNING:tensorflow:Can save best model only with value_Loss available, skipping.\n",
            "32/32 [==============================] - 513s 16s/step - loss: 0.6079 - accuracy: 0.7319 - val_loss: 0.4807 - val_accuracy: 0.7711\n",
            "Epoch 16/25\n",
            "32/32 [==============================] - ETA: 0s - loss: 0.5932 - accuracy: 0.7456 WARNING:tensorflow:Can save best model only with value_Loss available, skipping.\n",
            "32/32 [==============================] - 509s 16s/step - loss: 0.5932 - accuracy: 0.7456 - val_loss: 0.4741 - val_accuracy: 0.7871\n",
            "Epoch 17/25\n",
            "32/32 [==============================] - ETA: 0s - loss: 0.5754 - accuracy: 0.7426 WARNING:tensorflow:Can save best model only with value_Loss available, skipping.\n",
            "32/32 [==============================] - 511s 16s/step - loss: 0.5754 - accuracy: 0.7426 - val_loss: 0.4658 - val_accuracy: 0.8072\n",
            "Epoch 18/25\n",
            "32/32 [==============================] - ETA: 0s - loss: 0.5882 - accuracy: 0.7191 WARNING:tensorflow:Can save best model only with value_Loss available, skipping.\n",
            "32/32 [==============================] - 506s 16s/step - loss: 0.5882 - accuracy: 0.7191 - val_loss: 0.4613 - val_accuracy: 0.7992\n",
            "Epoch 19/25\n",
            "32/32 [==============================] - ETA: 0s - loss: 0.5629 - accuracy: 0.7451 WARNING:tensorflow:Can save best model only with value_Loss available, skipping.\n",
            "32/32 [==============================] - 516s 16s/step - loss: 0.5629 - accuracy: 0.7451 - val_loss: 0.4602 - val_accuracy: 0.7992\n",
            "Epoch 20/25\n",
            "32/32 [==============================] - ETA: 0s - loss: 0.5689 - accuracy: 0.7412 WARNING:tensorflow:Can save best model only with value_Loss available, skipping.\n",
            "32/32 [==============================] - 510s 16s/step - loss: 0.5689 - accuracy: 0.7412 - val_loss: 0.4583 - val_accuracy: 0.7871\n",
            "Epoch 21/25\n",
            "32/32 [==============================] - ETA: 0s - loss: 0.5698 - accuracy: 0.7441 WARNING:tensorflow:Can save best model only with value_Loss available, skipping.\n",
            "32/32 [==============================] - 509s 16s/step - loss: 0.5698 - accuracy: 0.7441 - val_loss: 0.4542 - val_accuracy: 0.7912\n",
            "Epoch 22/25\n",
            "32/32 [==============================] - ETA: 0s - loss: 0.5733 - accuracy: 0.7294 WARNING:tensorflow:Can save best model only with value_Loss available, skipping.\n",
            "32/32 [==============================] - 513s 16s/step - loss: 0.5733 - accuracy: 0.7294 - val_loss: 0.4505 - val_accuracy: 0.7912\n",
            "Epoch 23/25\n",
            "32/32 [==============================] - ETA: 0s - loss: 0.5533 - accuracy: 0.7466 WARNING:tensorflow:Can save best model only with value_Loss available, skipping.\n",
            "32/32 [==============================] - 511s 16s/step - loss: 0.5533 - accuracy: 0.7466 - val_loss: 0.4464 - val_accuracy: 0.7952\n",
            "Epoch 24/25\n",
            "32/32 [==============================] - ETA: 0s - loss: 0.5675 - accuracy: 0.7412 WARNING:tensorflow:Can save best model only with value_Loss available, skipping.\n",
            "32/32 [==============================] - 513s 16s/step - loss: 0.5675 - accuracy: 0.7412 - val_loss: 0.4406 - val_accuracy: 0.7871\n",
            "Epoch 25/25\n",
            "32/32 [==============================] - ETA: 0s - loss: 0.5592 - accuracy: 0.7382 WARNING:tensorflow:Can save best model only with value_Loss available, skipping.\n",
            "32/32 [==============================] - 512s 16s/step - loss: 0.5592 - accuracy: 0.7382 - val_loss: 0.4383 - val_accuracy: 0.7952\n"
          ]
        }
      ]
    },
    {
      "cell_type": "markdown",
      "metadata": {
        "id": "COdm4ZGiUpUf"
      },
      "source": [
        "**Plot the results**"
      ]
    },
    {
      "cell_type": "code",
      "metadata": {
        "id": "pUL7PE07Hb66"
      },
      "source": [
        "accuracy = history.history['accuracy']\n",
        "value_accuracy = history.history['val_accuracy']\n",
        "Loss = history.history['loss']\n",
        "value_Loss = history.history['val_loss']\n",
        " "
      ],
      "execution_count": null,
      "outputs": []
    },
    {
      "cell_type": "code",
      "metadata": {
        "colab": {
          "base_uri": "https://localhost:8080/",
          "height": 299
        },
        "id": "Btm27OGOE2JS",
        "outputId": "9325dee9-29c8-439e-fd5e-9566f57f064e"
      },
      "source": [
        "\n",
        "Epochs = range(len(accuracy))\n",
        "plt.plot(Epochs, accuracy, 'r', label='train_seting accuracyuracy')\n",
        "plt.plot(Epochs, value_accuracy, 'b', label='Validation accuracyuracy')\n",
        "plt.title('Training & Value accuracy VS Epochs')\n",
        "plt.legend(loc=0)\n",
        "plt.figure()\n",
        "plt.show()"
      ],
      "execution_count": null,
      "outputs": [
        {
          "output_type": "display_data",
          "data": {
            "image/png": "[encoded data removed]",
            "text/plain": [
              "<Figure size 432x288 with 1 Axes>"
            ]
          },
          "metadata": {
            "needs_background": "light"
          }
        },
        {
          "output_type": "display_data",
          "data": {
            "text/plain": [
              "<Figure size 432x288 with 0 Axes>"
            ]
          },
          "metadata": {}
        }
      ]
    },
    {
      "cell_type": "code",
      "metadata": {
        "colab": {
          "base_uri": "https://localhost:8080/",
          "height": 299
        },
        "id": "Z0dm4d8YE6sU",
        "outputId": "41dd61c5-9743-420f-8497-b70260e3df29"
      },
      "source": [
        "\n",
        "Epochs = range(len(accuracy))\n",
        "plt.plot(Epochs, Loss, 'r', label='train_seting Loss')\n",
        "plt.plot(Epochs, value_Loss, 'b', label='Validation Loss')\n",
        "plt.title('training & Value Loss VS Epochs')\n",
        "plt.legend(loc=0)\n",
        "plt.figure()\n",
        "plt.show()"
      ],
      "execution_count": null,
      "outputs": [
        {
          "output_type": "display_data",
          "data": {
            "image/png": "[encoded data removed]",
            "text/plain": [
              "<Figure size 432x288 with 1 Axes>"
            ]
          },
          "metadata": {
            "needs_background": "light"
          }
        },
        {
          "output_type": "display_data",
          "data": {
            "text/plain": [
              "<Figure size 432x288 with 0 Axes>"
            ]
          },
          "metadata": {}
        }
      ]
    },
    {
      "cell_type": "code",
      "metadata": {
        "colab": {
          "base_uri": "https://localhost:8080/"
        },
        "id": "LXGaBKXwE_BI",
        "outputId": "08f60870-e404-458e-b595-bb895398da70"
      },
      "source": [
        "Model.load_weights(\"VGG16_Model.hdf5\")\n",
        "score = Model.evaluate(X_value, Y_value ,verbose=1)\n",
        "print('Test Loss:', score[0])\n",
        "print('Test accuracy:', score[1]*100)"
      ],
      "execution_count": null,
      "outputs": [
        {
          "output_type": "stream",
          "name": "stdout",
          "text": [
            "8/8 [==============================] - 55s 7s/step - loss: 0.4462 - accuracy: 0.7992\n",
            "Test Loss: 0.44622641801834106\n",
            "Test accuracy: 79.91967797279358\n"
          ]
        }
      ]
    },
    {
      "cell_type": "code",
      "metadata": {
        "colab": {
          "base_uri": "https://localhost:8080/",
          "height": 299
        },
        "id": "iaxh_22iFFyf",
        "outputId": "56f10b92-df36-458e-8ffe-9aedf2824f5d"
      },
      "source": [
        "Y_predict = Model.predict(X_value)\n",
        "Y_predictx = np.argmax(Y_predict, axis = -1)\n",
        "Y_valuex = np.argmax(Y_value, axis = -1)\n",
        "cf_matrix = confusion_matrix(Y_valuex, Y_predictx)\n",
        "group_name = ['True Neg','False Pos','False Neg','True Pos']\n",
        "group_count = [\"{0:0.0f}\".format(value) for value in\n",
        "                cf_matrix.flatten()]\n",
        "group_percentage = [\"{0:.2%}\".format(value) for value in\n",
        "                     cf_matrix.flatten()/np.sum(cf_matrix)]\n",
        "label = [f\"{v1}\\n{v2}\\n{v3}\" for v1, v2, v3 in\n",
        "          zip(group_name,group_count,group_percentage)]\n",
        "label = np.asarray(labels).reshape(2,2)\n",
        "sns.heatmap(cf_matrix, annot = labels, fmt = '')\n",
        "plt.title(\"Confusion Matrix\")"
      ],
      "execution_count": null,
      "outputs": [
        {
          "output_type": "execute_result",
          "data": {
            "text/plain": [
              "Text(0.5, 1.0, 'Confusion Matrix')"
            ]
          },
          "metadata": {},
          "execution_count": 28
        },
        {
          "output_type": "display_data",
          "data": {
            "image/png": "[encoded data removed]",
            "text/plain": [
              "<Figure size 432x288 with 2 Axes>"
            ]
          },
          "metadata": {
            "needs_background": "light"
          }
        }
      ]
    },
    {
      "cell_type": "code",
      "metadata": {
        "id": "8uo5wZNWFJhG"
      },
      "source": [
        ""
      ],
      "execution_count": null,
      "outputs": []
    }
  ]
}