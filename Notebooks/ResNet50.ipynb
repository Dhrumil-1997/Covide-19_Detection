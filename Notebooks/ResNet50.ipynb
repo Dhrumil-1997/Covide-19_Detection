{
  "nbformat": 4,
  "nbformat_minor": 0,
  "metadata": {
    "colab": {
      "name": "ResNet50.ipynb",
      "provenance": [],
      "collapsed_sections": []
    },
    "kernelspec": {
      "name": "python3",
      "display_name": "Python 3"
    },
    "language_info": {
      "name": "python"
    }
  },
  "cells": [
    {
      "cell_type": "code",
      "metadata": {
        "colab": {
          "base_uri": "https://localhost:8080/"
        },
        "id": "zKMmJCTtMfH4",
        "outputId": "bd4ce855-0dc0-4d3b-9fa4-78c570fa3654"
      },
      "source": [
        "from google.colab import drive\n",
        "drive.mount('/content/gdrive')"
      ],
      "execution_count": null,
      "outputs": [
        {
          "output_type": "stream",
          "name": "stdout",
          "text": [
            "Mounted at /content/gdrive\n"
          ]
        }
      ]
    },
    {
      "cell_type": "markdown",
      "metadata": {
        "id": "jo2JHQUMU-Gu"
      },
      "source": [
        "**Import Libraries**"
      ]
    },
    {
      "cell_type": "code",
      "metadata": {
        "id": "P0XjXftNNO9q"
      },
      "source": [
        "import os\n",
        "import tensorflow as tf\n",
        "from keras.models import Model, Input\n",
        "import pandas as pd\n",
        "import numpy as np\n",
        "from tqdm import tqdm\n",
        "from sklearn.model_selection import train_test_split\n",
        "from keras.layers import  Flatten, Dense, Dropout\n",
        "from keras.callbacks import ModelCheckpoint, ReduceLROnPlateau\n",
        "from tensorflow.keras.applications import ResNet50\n",
        "import keras\n",
        "from keras.utils.np_utils import to_categorical\n",
        "import cv2\n",
        "from keras import optimizers\n",
        "from keras_preprocessing.image import ImageDataGenerator\n",
        "from keras import callbacks\n",
        "import matplotlib.pyplot as plt\n",
        "from sklearn.metrics import confusion_matrix\n",
        "from keras.layers import Dense, Dropout, Flatten, Conv2D, MaxPool2D, BatchNormalization, AveragePooling2D, GlobalAveragePooling2D\n",
        "import keras_preprocessing\n",
        "from keras_preprocessing import image\n",
        "import seaborn as sns\n",
        "from tensorflow.keras.optimizers import Adam\n",
        "from keras.layers import Dense, GlobalAveragePooling2D\n"
      ],
      "execution_count": null,
      "outputs": []
    },
    {
      "cell_type": "code",
      "metadata": {
        "colab": {
          "base_uri": "https://localhost:8080/"
        },
        "id": "NUOTuJkOOvVD",
        "outputId": "4310bf16-3182-414e-c833-72db0c07b29a"
      },
      "source": [
        "%cd /content/gdrive/\"My Drive\"/\"Covid19\""
      ],
      "execution_count": null,
      "outputs": [
        {
          "output_type": "stream",
          "name": "stdout",
          "text": [
            "/content/gdrive/My Drive/Covid19\n"
          ]
        }
      ]
    },
    {
      "cell_type": "markdown",
      "metadata": {
        "id": "lMEP1zSNVEJ1"
      },
      "source": [
        "**Fetch the dataset**"
      ]
    },
    {
      "cell_type": "code",
      "metadata": {
        "id": "ZVrLabE_OzVq"
      },
      "source": [
        "os.environ['KAGGLE_CONFIG_DIR'] = \"/content/gdrive/MyDrive/Covid19\""
      ],
      "execution_count": null,
      "outputs": []
    },
    {
      "cell_type": "markdown",
      "metadata": {
        "id": "kcPk2vbiVIU9"
      },
      "source": [
        "**Split the data into test and train**"
      ]
    },
    {
      "cell_type": "code",
      "metadata": {
        "id": "F4LeRA5qO1mq"
      },
      "source": [
        "disease_type=['COVID', 'non-COVID']\n",
        "Data_dir = '/content/gdrive/MyDrive/cv_project/Covid19'\n",
        "train_set_dir = os.path.join(Data_dir)"
      ],
      "execution_count": null,
      "outputs": []
    },
    {
      "cell_type": "code",
      "metadata": {
        "id": "euNbFmgcO4e4"
      },
      "source": [
        "train_set_data = []\n",
        "for defects_id, sp in enumerate(disease_type):\n",
        "    for file in os.listdir(os.path.join(train_set_dir, sp)):\n",
        "        train_set_data.append(['{}/{}'.format(sp, file), defects_id, sp])      \n",
        "train_set = pd.DataFrame(train_set_data, columns=['File', 'DiseaseID','Disease Type'])"
      ],
      "execution_count": null,
      "outputs": []
    },
    {
      "cell_type": "code",
      "metadata": {
        "id": "cocJjz35SQ8s"
      },
      "source": [
        "Img_size = 64\n",
        "def read_image(file_path):\n",
        "    return cv2.imread(os.path.join(Data_dir, file_path)) \n",
        "def resize_image(image, Img_size):\n",
        "    return cv2.resize(image.copy(), Img_size, interpolation=cv2.INTER_AREA)"
      ],
      "execution_count": null,
      "outputs": []
    },
    {
      "cell_type": "code",
      "metadata": {
        "colab": {
          "base_uri": "https://localhost:8080/"
        },
        "id": "jKopoisbO_Bz",
        "outputId": "95c83e78-73c1-4968-c0c4-e9676f6eb9a6"
      },
      "source": [
        "X_train_set = np.zeros((train_set.shape[0], Img_size, Img_size, 3))\n",
        "for i, file in tqdm(enumerate(train_set['File'].values)):\n",
        "    image = read_image(file)\n",
        "    if image is not None:\n",
        "        X_train_set[i] = resize_image(image, (Img_size, Img_size))\n",
        "X_train_set = X_train_set / 255.\n",
        "print(X_train_set.shape)"
      ],
      "execution_count": null,
      "outputs": [
        {
          "output_type": "stream",
          "name": "stderr",
          "text": [
            "2481it [13:53,  2.98it/s]"
          ]
        },
        {
          "output_type": "stream",
          "name": "stdout",
          "text": [
            "(2481, 64, 64, 3)\n"
          ]
        },
        {
          "output_type": "stream",
          "name": "stderr",
          "text": [
            "\n"
          ]
        }
      ]
    },
    {
      "cell_type": "code",
      "metadata": {
        "id": "Olqz419wSLlg"
      },
      "source": [
        "Y_train_set = train_set['DiseaseID'].values\n",
        "Y_train_set = to_categorical(Y_train_set, num_classes=2)"
      ],
      "execution_count": null,
      "outputs": []
    },
    {
      "cell_type": "code",
      "metadata": {
        "id": "9BomeQjKULsV"
      },
      "source": [
        "X_train_set, X_value, Y_train_set, Y_value = train_test_split(X_train_set, Y_train_set, test_size=0.2, random_state = 42)"
      ],
      "execution_count": null,
      "outputs": []
    },
    {
      "cell_type": "code",
      "metadata": {
        "id": "v-102rlkUTx3"
      },
      "source": [
        "BATCH_SIZE = 64\n",
        "Epochs = 50\n",
        "Size=64\n",
        "N_CH=3"
      ],
      "execution_count": null,
      "outputs": []
    },
    {
      "cell_type": "markdown",
      "metadata": {
        "id": "RN1Del2CVYfH"
      },
      "source": [
        "**Define ResNet50 model**"
      ]
    },
    {
      "cell_type": "code",
      "metadata": {
        "id": "tE27aq0yUVnk",
        "colab": {
          "base_uri": "https://localhost:8080/"
        },
        "outputId": "6a365bd5-4c9c-45fe-aa6d-fe6f95154904"
      },
      "source": [
        "resnet50_Model = ResNet50(weights='imagenet', include_top=False)\n",
        "\n",
        "input = Input(shape=(Size, Size, N_CH))\n",
        "x = Conv2D(3, (3, 3), padding='same')(input)\n",
        "    \n",
        "x = resnet50_Model(x)\n",
        "    \n",
        "x = GlobalAveragePooling2D()(x)\n",
        "x = BatchNormalization()(x)\n",
        "x = Dropout(0.5)(x)\n",
        "x = Dense(256, activation='relu')(x)\n",
        "x = BatchNormalization()(x)\n",
        "x = Dropout(0.5)(x)\n",
        "\n",
        "# multi output\n",
        "output = Dense(2,activation = 'softmax', name='root')(x)\n",
        " \n",
        "\n",
        "# model\n",
        "Model = Model(input,output)\n",
        "    \n",
        "optimizer = Adam(learning_rate=0.003, beta_1=0.9, beta_2=0.999, epsilon=0.1, decay=0.0)\n",
        "Model.compile(loss='categorical_crossentropy', optimizer=optimizer, metrics=['accuracy'])\n",
        "Model.summary()\n",
        "    \n"
      ],
      "execution_count": null,
      "outputs": [
        {
          "output_type": "stream",
          "name": "stdout",
          "text": [
            "Downloading data from https://storage.googleapis.com/tensorflow/keras-applications/resnet/resnet50_weights_tf_dim_ordering_tf_kernels_notop.h5\n",
            "94773248/94765736 [==============================] - 1s 0us/step\n",
            "94781440/94765736 [==============================] - 1s 0us/step\n",
            "Model: \"model\"\n",
            "_________________________________________________________________\n",
            " Layer (type)                Output Shape              Param #   \n",
            "=================================================================\n",
            " input_2 (InputLayer)        [(None, 64, 64, 3)]       0         \n",
            "                                                                 \n",
            " conv2d (Conv2D)             (None, 64, 64, 3)         84        \n",
            "                                                                 \n",
            " resnet50 (Functional)       (None, None, None, 2048)  23587712  \n",
            "                                                                 \n",
            " global_average_pooling2d (G  (None, 2048)             0         \n",
            " lobalAveragePooling2D)                                          \n",
            "                                                                 \n",
            " batch_normalization (BatchN  (None, 2048)             8192      \n",
            " ormalization)                                                   \n",
            "                                                                 \n",
            " dropout (Dropout)           (None, 2048)              0         \n",
            "                                                                 \n",
            " dense (Dense)               (None, 256)               524544    \n",
            "                                                                 \n",
            " batch_normalization_1 (Batc  (None, 256)              1024      \n",
            " hNormalization)                                                 \n",
            "                                                                 \n",
            " dropout_1 (Dropout)         (None, 256)               0         \n",
            "                                                                 \n",
            " root (Dense)                (None, 2)                 514       \n",
            "                                                                 \n",
            "=================================================================\n",
            "Total params: 24,122,070\n",
            "Trainable params: 24,064,342\n",
            "Non-trainable params: 57,728\n",
            "_________________________________________________________________\n"
          ]
        }
      ]
    },
    {
      "cell_type": "markdown",
      "metadata": {
        "id": "42HAV4ouVgii"
      },
      "source": [
        "**Train the model**"
      ]
    },
    {
      "cell_type": "code",
      "metadata": {
        "id": "qKAdjndZUfBo"
      },
      "source": [
        "Annealer = ReduceLROnPlateau(monitor='val_accuracy', factor=0.70, patience=5, verbose=1, min_lr=1e-4)\n",
        "checkpoint = ModelCheckpoint('ResNet50_Model.hdf5', verbose=1, save_best_only=True)\n",
        "data_generator = ImageDataGenerator(rotation_range=360, \n",
        "                        width_shift_range=0.2, \n",
        "                        height_shift_range=0.2,\n",
        "                        zoom_range=0.2, \n",
        "                        horizontal_flip=True, \n",
        "                        vertical_flip=True) \n",
        "\n",
        "data_generator.fit(X_train_set)"
      ],
      "execution_count": null,
      "outputs": []
    },
    {
      "cell_type": "code",
      "metadata": {
        "colab": {
          "base_uri": "https://localhost:8080/"
        },
        "id": "i7JJ6LJ2Uh4o",
        "outputId": "d8e0fee7-f2e6-4e75-8a08-c282b261497d"
      },
      "source": [
        "history = Model.fit(data_generator.flow(X_train_set, Y_train_set, batch_size=BATCH_SIZE),\n",
        "               steps_per_epoch=X_train_set.shape[0] // BATCH_SIZE,\n",
        "               epochs=Epochs,\n",
        "               verbose=1,\n",
        "               callbacks=[Annealer, checkpoint],\n",
        "               validation_data=(X_value, Y_value))"
      ],
      "execution_count": null,
      "outputs": [
        {
          "output_type": "stream",
          "name": "stdout",
          "text": [
            "Epoch 1/50\n",
            "31/31 [==============================] - ETA: 0s - loss: 1.2653 - accuracy: 0.5071\n",
            "Epoch 00001: val_loss improved from inf to 1.03925, saving model to ResNet50_Model.hdf5\n"
          ]
        },
        {
          "output_type": "stream",
          "name": "stderr",
          "text": [
            "/usr/local/lib/python3.7/dist-packages/keras/engine/functional.py:1410: CustomMaskWarning: Custom mask layers require a config and must override get_config. When loading, the custom mask layer must be passed to the custom_objects argument.\n",
            "  layer_config = serialize_layer_fn(layer)\n"
          ]
        },
        {
          "output_type": "stream",
          "name": "stdout",
          "text": [
            "\b\b\b\b\b\b\b\b\b\b\b\b\b\b\b\b\b\b\b\b\b\b\b\b\b\b\b\b\b\b\b\b\b\b\b\b\b\b\b\b\b\b\b\b\b\b\b\b\b\b\b\b\b\b\b\b\b\b\b\b\b\b\b\b\b\b\b\b\b\b\b\b\b\b\b\b\b\b\b\b\b\b\r31/31 [==============================] - 309s 10s/step - loss: 1.2653 - accuracy: 0.5071 - val_loss: 1.0392 - val_accuracy: 0.5191 - lr: 0.0030\n",
            "Epoch 2/50\n",
            "31/31 [==============================] - ETA: 0s - loss: 1.0145 - accuracy: 0.5771\n",
            "Epoch 00002: val_loss did not improve from 1.03925\n",
            "31/31 [==============================] - 302s 10s/step - loss: 1.0145 - accuracy: 0.5771 - val_loss: 1.6252 - val_accuracy: 0.4809 - lr: 0.0030\n",
            "Epoch 3/50\n",
            "31/31 [==============================] - ETA: 0s - loss: 0.9299 - accuracy: 0.6210\n",
            "Epoch 00003: val_loss did not improve from 1.03925\n",
            "31/31 [==============================] - 301s 10s/step - loss: 0.9299 - accuracy: 0.6210 - val_loss: 2.8627 - val_accuracy: 0.4809 - lr: 0.0030\n",
            "Epoch 4/50\n",
            "31/31 [==============================] - ETA: 0s - loss: 0.8325 - accuracy: 0.6442\n",
            "Epoch 00004: val_loss did not improve from 1.03925\n",
            "31/31 [==============================] - 301s 10s/step - loss: 0.8325 - accuracy: 0.6442 - val_loss: 3.2262 - val_accuracy: 0.4809 - lr: 0.0030\n",
            "Epoch 5/50\n",
            "31/31 [==============================] - ETA: 0s - loss: 0.7459 - accuracy: 0.6683\n",
            "Epoch 00005: val_loss did not improve from 1.03925\n",
            "31/31 [==============================] - 305s 10s/step - loss: 0.7459 - accuracy: 0.6683 - val_loss: 4.2774 - val_accuracy: 0.4809 - lr: 0.0030\n",
            "Epoch 6/50\n",
            "31/31 [==============================] - ETA: 0s - loss: 0.7217 - accuracy: 0.6835\n",
            "Epoch 00006: ReduceLROnPlateau reducing learning rate to 0.002100000018253922.\n",
            "\n",
            "Epoch 00006: val_loss did not improve from 1.03925\n",
            "31/31 [==============================] - 301s 10s/step - loss: 0.7217 - accuracy: 0.6835 - val_loss: 2.3276 - val_accuracy: 0.4809 - lr: 0.0030\n",
            "Epoch 7/50\n",
            "31/31 [==============================] - ETA: 0s - loss: 0.6444 - accuracy: 0.7172\n",
            "Epoch 00007: val_loss did not improve from 1.03925\n",
            "31/31 [==============================] - 306s 10s/step - loss: 0.6444 - accuracy: 0.7172 - val_loss: 2.7046 - val_accuracy: 0.4809 - lr: 0.0021\n",
            "Epoch 8/50\n",
            "31/31 [==============================] - ETA: 0s - loss: 0.5787 - accuracy: 0.7349\n",
            "Epoch 00008: val_loss did not improve from 1.03925\n",
            "31/31 [==============================] - 297s 10s/step - loss: 0.5787 - accuracy: 0.7349 - val_loss: 1.7284 - val_accuracy: 0.4809 - lr: 0.0021\n",
            "Epoch 9/50\n",
            "31/31 [==============================] - ETA: 0s - loss: 0.5451 - accuracy: 0.7419\n",
            "Epoch 00009: val_loss did not improve from 1.03925\n",
            "31/31 [==============================] - 298s 10s/step - loss: 0.5451 - accuracy: 0.7419 - val_loss: 1.3587 - val_accuracy: 0.4809 - lr: 0.0021\n",
            "Epoch 10/50\n",
            "31/31 [==============================] - ETA: 0s - loss: 0.5421 - accuracy: 0.7485\n",
            "Epoch 00010: val_loss did not improve from 1.03925\n",
            "31/31 [==============================] - 302s 10s/step - loss: 0.5421 - accuracy: 0.7485 - val_loss: 1.6107 - val_accuracy: 0.4809 - lr: 0.0021\n",
            "Epoch 11/50\n",
            "31/31 [==============================] - ETA: 0s - loss: 0.4907 - accuracy: 0.7732\n",
            "Epoch 00011: ReduceLROnPlateau reducing learning rate to 0.0014699999475851653.\n",
            "\n",
            "Epoch 00011: val_loss improved from 1.03925 to 0.69136, saving model to ResNet50_Model.hdf5\n",
            "31/31 [==============================] - 307s 10s/step - loss: 0.4907 - accuracy: 0.7732 - val_loss: 0.6914 - val_accuracy: 0.5050 - lr: 0.0021\n",
            "Epoch 12/50\n",
            "31/31 [==============================] - ETA: 0s - loss: 0.4903 - accuracy: 0.7722\n",
            "Epoch 00012: val_loss did not improve from 0.69136\n",
            "31/31 [==============================] - 299s 10s/step - loss: 0.4903 - accuracy: 0.7722 - val_loss: 0.7037 - val_accuracy: 0.4809 - lr: 0.0015\n",
            "Epoch 13/50\n",
            "31/31 [==============================] - ETA: 0s - loss: 0.4790 - accuracy: 0.7772\n",
            "Epoch 00013: val_loss improved from 0.69136 to 0.67851, saving model to ResNet50_Model.hdf5\n",
            "31/31 [==============================] - 304s 10s/step - loss: 0.4790 - accuracy: 0.7772 - val_loss: 0.6785 - val_accuracy: 0.5915 - lr: 0.0015\n",
            "Epoch 14/50\n",
            "31/31 [==============================] - ETA: 0s - loss: 0.4552 - accuracy: 0.7913\n",
            "Epoch 00014: val_loss improved from 0.67851 to 0.67135, saving model to ResNet50_Model.hdf5\n",
            "31/31 [==============================] - 311s 10s/step - loss: 0.4552 - accuracy: 0.7913 - val_loss: 0.6713 - val_accuracy: 0.6197 - lr: 0.0015\n",
            "Epoch 15/50\n",
            "31/31 [==============================] - ETA: 0s - loss: 0.4204 - accuracy: 0.8070\n",
            "Epoch 00015: val_loss did not improve from 0.67135\n",
            "31/31 [==============================] - 312s 10s/step - loss: 0.4204 - accuracy: 0.8070 - val_loss: 0.7265 - val_accuracy: 0.5191 - lr: 0.0015\n",
            "Epoch 16/50\n",
            "31/31 [==============================] - ETA: 0s - loss: 0.4038 - accuracy: 0.8185\n",
            "Epoch 00016: val_loss did not improve from 0.67135\n",
            "31/31 [==============================] - 309s 10s/step - loss: 0.4038 - accuracy: 0.8185 - val_loss: 0.7142 - val_accuracy: 0.5191 - lr: 0.0015\n",
            "Epoch 17/50\n",
            "31/31 [==============================] - ETA: 0s - loss: 0.4295 - accuracy: 0.8130\n",
            "Epoch 00017: val_loss improved from 0.67135 to 0.66928, saving model to ResNet50_Model.hdf5\n",
            "31/31 [==============================] - 316s 10s/step - loss: 0.4295 - accuracy: 0.8130 - val_loss: 0.6693 - val_accuracy: 0.5734 - lr: 0.0015\n",
            "Epoch 18/50\n",
            "31/31 [==============================] - ETA: 0s - loss: 0.4020 - accuracy: 0.8231\n",
            "Epoch 00018: val_loss improved from 0.66928 to 0.66578, saving model to ResNet50_Model.hdf5\n",
            "31/31 [==============================] - 316s 10s/step - loss: 0.4020 - accuracy: 0.8231 - val_loss: 0.6658 - val_accuracy: 0.5473 - lr: 0.0015\n",
            "Epoch 19/50\n",
            "31/31 [==============================] - ETA: 0s - loss: 0.3878 - accuracy: 0.8352\n",
            "Epoch 00019: ReduceLROnPlateau reducing learning rate to 0.0010289999307133257.\n",
            "\n",
            "Epoch 00019: val_loss improved from 0.66578 to 0.64698, saving model to ResNet50_Model.hdf5\n",
            "31/31 [==============================] - 316s 10s/step - loss: 0.3878 - accuracy: 0.8352 - val_loss: 0.6470 - val_accuracy: 0.6177 - lr: 0.0015\n",
            "Epoch 20/50\n",
            "31/31 [==============================] - ETA: 0s - loss: 0.3862 - accuracy: 0.8145\n",
            "Epoch 00020: val_loss improved from 0.64698 to 0.63784, saving model to ResNet50_Model.hdf5\n",
            "31/31 [==============================] - 316s 10s/step - loss: 0.3862 - accuracy: 0.8145 - val_loss: 0.6378 - val_accuracy: 0.6117 - lr: 0.0010\n",
            "Epoch 21/50\n",
            "31/31 [==============================] - ETA: 0s - loss: 0.3541 - accuracy: 0.8407\n",
            "Epoch 00021: val_loss improved from 0.63784 to 0.60255, saving model to ResNet50_Model.hdf5\n",
            "31/31 [==============================] - 315s 10s/step - loss: 0.3541 - accuracy: 0.8407 - val_loss: 0.6026 - val_accuracy: 0.7143 - lr: 0.0010\n",
            "Epoch 22/50\n",
            "31/31 [==============================] - ETA: 0s - loss: 0.3790 - accuracy: 0.8332\n",
            "Epoch 00022: val_loss did not improve from 0.60255\n",
            "31/31 [==============================] - 315s 10s/step - loss: 0.3790 - accuracy: 0.8332 - val_loss: 0.6489 - val_accuracy: 0.6358 - lr: 0.0010\n",
            "Epoch 23/50\n",
            "31/31 [==============================] - ETA: 0s - loss: 0.3746 - accuracy: 0.8407 \n",
            "Epoch 00023: val_loss did not improve from 0.60255\n",
            "31/31 [==============================] - 338s 11s/step - loss: 0.3746 - accuracy: 0.8407 - val_loss: 0.6112 - val_accuracy: 0.6680 - lr: 0.0010\n",
            "Epoch 24/50\n",
            "31/31 [==============================] - ETA: 0s - loss: 0.3576 - accuracy: 0.8422 \n",
            "Epoch 00024: val_loss improved from 0.60255 to 0.55008, saving model to ResNet50_Model.hdf5\n",
            "31/31 [==============================] - 344s 11s/step - loss: 0.3576 - accuracy: 0.8422 - val_loss: 0.5501 - val_accuracy: 0.7324 - lr: 0.0010\n",
            "Epoch 25/50\n",
            "31/31 [==============================] - ETA: 0s - loss: 0.3514 - accuracy: 0.8533\n",
            "Epoch 00025: val_loss did not improve from 0.55008\n",
            "31/31 [==============================] - 315s 10s/step - loss: 0.3514 - accuracy: 0.8533 - val_loss: 0.6318 - val_accuracy: 0.6922 - lr: 0.0010\n",
            "Epoch 26/50\n",
            "31/31 [==============================] - ETA: 0s - loss: 0.3403 - accuracy: 0.8659\n",
            "Epoch 00026: val_loss did not improve from 0.55008\n",
            "31/31 [==============================] - 309s 10s/step - loss: 0.3403 - accuracy: 0.8659 - val_loss: 0.6165 - val_accuracy: 0.6942 - lr: 0.0010\n",
            "Epoch 27/50\n",
            "31/31 [==============================] - ETA: 0s - loss: 0.3619 - accuracy: 0.8488\n",
            "Epoch 00027: val_loss did not improve from 0.55008\n",
            "31/31 [==============================] - 309s 10s/step - loss: 0.3619 - accuracy: 0.8488 - val_loss: 0.5737 - val_accuracy: 0.6942 - lr: 0.0010\n",
            "Epoch 28/50\n",
            "31/31 [==============================] - ETA: 0s - loss: 0.3478 - accuracy: 0.8523 \n",
            "Epoch 00028: val_loss improved from 0.55008 to 0.54656, saving model to ResNet50_Model.hdf5\n",
            "31/31 [==============================] - 326s 11s/step - loss: 0.3478 - accuracy: 0.8523 - val_loss: 0.5466 - val_accuracy: 0.7103 - lr: 0.0010\n",
            "Epoch 29/50\n",
            "31/31 [==============================] - ETA: 0s - loss: 0.3462 - accuracy: 0.8584\n",
            "Epoch 00029: ReduceLROnPlateau reducing learning rate to 0.0007202999433502554.\n",
            "\n",
            "Epoch 00029: val_loss did not improve from 0.54656\n",
            "31/31 [==============================] - 309s 10s/step - loss: 0.3462 - accuracy: 0.8584 - val_loss: 0.6087 - val_accuracy: 0.6821 - lr: 0.0010\n",
            "Epoch 30/50\n",
            "31/31 [==============================] - ETA: 0s - loss: 0.3430 - accuracy: 0.8513\n",
            "Epoch 00030: val_loss did not improve from 0.54656\n",
            "31/31 [==============================] - 310s 10s/step - loss: 0.3430 - accuracy: 0.8513 - val_loss: 0.6149 - val_accuracy: 0.6881 - lr: 7.2030e-04\n",
            "Epoch 31/50\n",
            "31/31 [==============================] - ETA: 0s - loss: 0.3258 - accuracy: 0.8654\n",
            "Epoch 00031: val_loss did not improve from 0.54656\n",
            "31/31 [==============================] - 312s 10s/step - loss: 0.3258 - accuracy: 0.8654 - val_loss: 0.7196 - val_accuracy: 0.6801 - lr: 7.2030e-04\n",
            "Epoch 32/50\n",
            "31/31 [==============================] - ETA: 0s - loss: 0.3289 - accuracy: 0.8604\n",
            "Epoch 00032: val_loss did not improve from 0.54656\n",
            "31/31 [==============================] - 308s 10s/step - loss: 0.3289 - accuracy: 0.8604 - val_loss: 0.7485 - val_accuracy: 0.6881 - lr: 7.2030e-04\n",
            "Epoch 33/50\n",
            "31/31 [==============================] - ETA: 0s - loss: 0.3277 - accuracy: 0.8594\n",
            "Epoch 00033: val_loss did not improve from 0.54656\n",
            "31/31 [==============================] - 310s 10s/step - loss: 0.3277 - accuracy: 0.8594 - val_loss: 0.7673 - val_accuracy: 0.6962 - lr: 7.2030e-04\n",
            "Epoch 34/50\n",
            "31/31 [==============================] - ETA: 0s - loss: 0.3353 - accuracy: 0.8589\n",
            "Epoch 00034: ReduceLROnPlateau reducing learning rate to 0.0005042099684942513.\n",
            "\n",
            "Epoch 00034: val_loss did not improve from 0.54656\n",
            "31/31 [==============================] - 312s 10s/step - loss: 0.3353 - accuracy: 0.8589 - val_loss: 0.6696 - val_accuracy: 0.7143 - lr: 7.2030e-04\n",
            "Epoch 35/50\n",
            "31/31 [==============================] - ETA: 0s - loss: 0.3271 - accuracy: 0.8644\n",
            "Epoch 00035: val_loss did not improve from 0.54656\n",
            "31/31 [==============================] - 315s 10s/step - loss: 0.3271 - accuracy: 0.8644 - val_loss: 0.5661 - val_accuracy: 0.7505 - lr: 5.0421e-04\n",
            "Epoch 36/50\n",
            "31/31 [==============================] - ETA: 0s - loss: 0.3188 - accuracy: 0.8644\n",
            "Epoch 00036: val_loss improved from 0.54656 to 0.44855, saving model to ResNet50_Model.hdf5\n",
            "31/31 [==============================] - 316s 10s/step - loss: 0.3188 - accuracy: 0.8644 - val_loss: 0.4485 - val_accuracy: 0.7887 - lr: 5.0421e-04\n",
            "Epoch 37/50\n",
            "31/31 [==============================] - ETA: 0s - loss: 0.3296 - accuracy: 0.8533\n",
            "Epoch 00037: val_loss improved from 0.44855 to 0.41741, saving model to ResNet50_Model.hdf5\n",
            "31/31 [==============================] - 314s 10s/step - loss: 0.3296 - accuracy: 0.8533 - val_loss: 0.4174 - val_accuracy: 0.8008 - lr: 5.0421e-04\n",
            "Epoch 38/50\n",
            "31/31 [==============================] - ETA: 0s - loss: 0.3203 - accuracy: 0.8558\n",
            "Epoch 00038: val_loss improved from 0.41741 to 0.35495, saving model to ResNet50_Model.hdf5\n",
            "31/31 [==============================] - 314s 10s/step - loss: 0.3203 - accuracy: 0.8558 - val_loss: 0.3550 - val_accuracy: 0.8370 - lr: 5.0421e-04\n",
            "Epoch 39/50\n",
            "31/31 [==============================] - ETA: 0s - loss: 0.3209 - accuracy: 0.8634\n",
            "Epoch 00039: val_loss improved from 0.35495 to 0.30585, saving model to ResNet50_Model.hdf5\n",
            "31/31 [==============================] - 312s 10s/step - loss: 0.3209 - accuracy: 0.8634 - val_loss: 0.3059 - val_accuracy: 0.8571 - lr: 5.0421e-04\n",
            "Epoch 40/50\n",
            "31/31 [==============================] - ETA: 0s - loss: 0.3323 - accuracy: 0.8564\n",
            "Epoch 00040: val_loss improved from 0.30585 to 0.25634, saving model to ResNet50_Model.hdf5\n",
            "31/31 [==============================] - 307s 10s/step - loss: 0.3323 - accuracy: 0.8564 - val_loss: 0.2563 - val_accuracy: 0.8893 - lr: 5.0421e-04\n",
            "Epoch 41/50\n",
            "31/31 [==============================] - ETA: 0s - loss: 0.3035 - accuracy: 0.8700\n",
            "Epoch 00041: val_loss did not improve from 0.25634\n",
            "31/31 [==============================] - 305s 10s/step - loss: 0.3035 - accuracy: 0.8700 - val_loss: 0.2566 - val_accuracy: 0.8913 - lr: 5.0421e-04\n",
            "Epoch 42/50\n",
            "31/31 [==============================] - ETA: 0s - loss: 0.3188 - accuracy: 0.8614\n",
            "Epoch 00042: val_loss improved from 0.25634 to 0.23260, saving model to ResNet50_Model.hdf5\n",
            "31/31 [==============================] - 307s 10s/step - loss: 0.3188 - accuracy: 0.8614 - val_loss: 0.2326 - val_accuracy: 0.9095 - lr: 5.0421e-04\n",
            "Epoch 43/50\n",
            "31/31 [==============================] - ETA: 0s - loss: 0.3054 - accuracy: 0.8720\n",
            "Epoch 00043: val_loss did not improve from 0.23260\n",
            "31/31 [==============================] - 309s 10s/step - loss: 0.3054 - accuracy: 0.8720 - val_loss: 0.2360 - val_accuracy: 0.9034 - lr: 5.0421e-04\n",
            "Epoch 44/50\n",
            "31/31 [==============================] - ETA: 0s - loss: 0.3197 - accuracy: 0.8664\n",
            "Epoch 00044: val_loss did not improve from 0.23260\n",
            "31/31 [==============================] - 308s 10s/step - loss: 0.3197 - accuracy: 0.8664 - val_loss: 0.2416 - val_accuracy: 0.9034 - lr: 5.0421e-04\n",
            "Epoch 45/50\n",
            "31/31 [==============================] - ETA: 0s - loss: 0.3238 - accuracy: 0.8599\n",
            "Epoch 00045: val_loss improved from 0.23260 to 0.22032, saving model to ResNet50_Model.hdf5\n",
            "31/31 [==============================] - 316s 10s/step - loss: 0.3238 - accuracy: 0.8599 - val_loss: 0.2203 - val_accuracy: 0.9215 - lr: 5.0421e-04\n",
            "Epoch 46/50\n",
            "31/31 [==============================] - ETA: 0s - loss: 0.2961 - accuracy: 0.8695\n",
            "Epoch 00046: val_loss did not improve from 0.22032\n",
            "31/31 [==============================] - 309s 10s/step - loss: 0.2961 - accuracy: 0.8695 - val_loss: 0.2351 - val_accuracy: 0.9135 - lr: 5.0421e-04\n",
            "Epoch 47/50\n",
            "31/31 [==============================] - ETA: 0s - loss: 0.2998 - accuracy: 0.8810\n",
            "Epoch 00047: val_loss did not improve from 0.22032\n",
            "31/31 [==============================] - 310s 10s/step - loss: 0.2998 - accuracy: 0.8810 - val_loss: 0.2765 - val_accuracy: 0.8913 - lr: 5.0421e-04\n",
            "Epoch 48/50\n",
            "31/31 [==============================] - ETA: 0s - loss: 0.2907 - accuracy: 0.8765\n",
            "Epoch 00048: val_loss did not improve from 0.22032\n",
            "31/31 [==============================] - 305s 10s/step - loss: 0.2907 - accuracy: 0.8765 - val_loss: 0.2918 - val_accuracy: 0.8793 - lr: 5.0421e-04\n",
            "Epoch 49/50\n",
            "31/31 [==============================] - ETA: 0s - loss: 0.2813 - accuracy: 0.8891\n",
            "Epoch 00049: val_loss improved from 0.22032 to 0.21778, saving model to ResNet50_Model.hdf5\n",
            "31/31 [==============================] - 309s 10s/step - loss: 0.2813 - accuracy: 0.8891 - val_loss: 0.2178 - val_accuracy: 0.9175 - lr: 5.0421e-04\n",
            "Epoch 50/50\n",
            "31/31 [==============================] - ETA: 0s - loss: 0.3053 - accuracy: 0.8760\n",
            "Epoch 00050: ReduceLROnPlateau reducing learning rate to 0.0003529469657223671.\n",
            "\n",
            "Epoch 00050: val_loss did not improve from 0.21778\n",
            "31/31 [==============================] - 310s 10s/step - loss: 0.3053 - accuracy: 0.8760 - val_loss: 0.2413 - val_accuracy: 0.8994 - lr: 5.0421e-04\n"
          ]
        }
      ]
    },
    {
      "cell_type": "markdown",
      "metadata": {
        "id": "TsaUbr8XVkg1"
      },
      "source": [
        "**Plot the results**"
      ]
    },
    {
      "cell_type": "code",
      "metadata": {
        "id": "DRXGmgCXUk5i"
      },
      "source": [
        "Accuracy = history.history['accuracy']\n",
        "Validation_Accuracy = history.history['val_accuracy']\n",
        "loss = history.history['loss']\n",
        "Validation_loss = history.history['val_loss']"
      ],
      "execution_count": null,
      "outputs": []
    },
    {
      "cell_type": "code",
      "metadata": {
        "colab": {
          "base_uri": "https://localhost:8080/",
          "height": 299
        },
        "id": "S_TEdn2YUoom",
        "outputId": "46968b22-b2de-455f-f1b3-4ea8050ffcce"
      },
      "source": [
        "Epochs = range(len(Accuracy))\n",
        "plt.plot(Epochs, Accuracy, 'r', label='train_seting Accuracy')\n",
        "plt.plot(Epochs, Validation_Accuracy, 'b', label='Validation accyuracy')\n",
        "plt.title('Train_set & Validation Accuracy VS Epochs')\n",
        "plt.legend(loc=0)\n",
        "plt.figure()\n",
        "plt.show()"
      ],
      "execution_count": null,
      "outputs": [
        {
          "output_type": "display_data",
          "data": {
            "image/png": "[encoded data removed]",
            "text/plain": [
              "<Figure size 432x288 with 1 Axes>"
            ]
          },
          "metadata": {
            "needs_background": "light"
          }
        },
        {
          "output_type": "display_data",
          "data": {
            "text/plain": [
              "<Figure size 432x288 with 0 Axes>"
            ]
          },
          "metadata": {}
        }
      ]
    },
    {
      "cell_type": "code",
      "metadata": {
        "colab": {
          "base_uri": "https://localhost:8080/",
          "height": 299
        },
        "id": "kgbRSKpoUrSu",
        "outputId": "f6989920-e477-4ccb-96c4-65fc2bb0695e"
      },
      "source": [
        "Epochs = range(len(Accuracy))\n",
        "plt.plot(Epochs, loss, 'r', label='train_seting Loss')\n",
        "plt.plot(Epochs, Validation_loss, 'b', label='Validationidation Loss')\n",
        "plt.title('train_set & Validation Loss VS Epochs')\n",
        "plt.legend(loc=0)\n",
        "plt.figure()\n",
        "plt.show()"
      ],
      "execution_count": null,
      "outputs": [
        {
          "output_type": "display_data",
          "data": {
            "image/png": "[encoded data removed]",
            "text/plain": [
              "<Figure size 432x288 with 1 Axes>"
            ]
          },
          "metadata": {
            "needs_background": "light"
          }
        },
        {
          "output_type": "display_data",
          "data": {
            "text/plain": [
              "<Figure size 432x288 with 0 Axes>"
            ]
          },
          "metadata": {}
        }
      ]
    },
    {
      "cell_type": "code",
      "metadata": {
        "colab": {
          "base_uri": "https://localhost:8080/"
        },
        "id": "u5QDzhN0Uuhg",
        "outputId": "edbee677-62a0-4e86-a256-50ab05c9ffb8"
      },
      "source": [
        "Model.load_weights(\"ResNet50_Model.hdf5\")\n",
        "score = Model.evaluate(X_value, Y_value ,verbose=1)\n",
        "print('Test Loss:', score[0])\n",
        "print('Test Accuracyuracy:', score[1]*100)"
      ],
      "execution_count": null,
      "outputs": [
        {
          "output_type": "stream",
          "name": "stdout",
          "text": [
            "16/16 [==============================] - 7s 415ms/step - loss: 0.2178 - accuracy: 0.9175\n",
            "Test Loss: 0.217776820063591\n",
            "Test Accuracyuracy: 91.75050258636475\n"
          ]
        }
      ]
    },
    {
      "cell_type": "code",
      "metadata": {
        "colab": {
          "base_uri": "https://localhost:8080/",
          "height": 299
        },
        "id": "NTFCrQPkUypd",
        "outputId": "7006ac40-cd9d-4df3-f4ed-b20a7ae7aa28"
      },
      "source": [
        "Y_predict = Model.predict(X_value)\n",
        "Y_predictx = np.argmax(Y_predict, axis = -1)\n",
        "Y_valuex = np.argmax(Y_value, axis = -1)\n",
        "cf_matrix = confusion_matrix(Y_valuex, Y_predictx)\n",
        "group_name = ['True Neg','False Pos','False Neg','True Pos']\n",
        "group_count = [\"{0:0.0f}\".format(value) for value in\n",
        "                cf_matrix.flatten()]\n",
        "group_percentage = [\"{0:.2%}\".format(value) for value in\n",
        "                     cf_matrix.flatten()/np.sum(cf_matrix)]\n",
        "label = [f\"{v1}\\n{v2}\\n{v3}\" for v1, v2, v3 in\n",
        "          zip(group_name,group_count,group_percentage)]\n",
        "label = np.asarray(labels).reshape(2,2)\n",
        "sns.heatmap(cf_matrix, annot = labels, fmt = '')\n",
        "plt.title(\"Confusion Matrix\")"
      ],
      "execution_count": null,
      "outputs": [
        {
          "output_type": "execute_result",
          "data": {
            "text/plain": [
              "Text(0.5, 1.0, 'Confusion Matrix')"
            ]
          },
          "metadata": {},
          "execution_count": 24
        },
        {
          "output_type": "display_data",
          "data": {
            "image/png": "[encoded data removed]",
            "text/plain": [
              "<Figure size 432x288 with 2 Axes>"
            ]
          },
          "metadata": {
            "needs_background": "light"
          }
        }
      ]
    },
    {
      "cell_type": "code",
      "metadata": {
        "id": "YOZMWlmEuxV0"
      },
      "source": [
        ""
      ],
      "execution_count": null,
      "outputs": []
    }
  ]
}